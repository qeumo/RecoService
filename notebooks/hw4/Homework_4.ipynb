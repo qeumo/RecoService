{
 "cells": [
  {
   "cell_type": "markdown",
   "source": [
    "# Домашнее задание\n",
    "\n",
    "Домашнее задание состоит из нескольких блоков.\n",
    "\n",
    "\n",
    "## Эксперименты в ipynb ноутбуках (11 баллов)\n",
    "- Необходимо будет перебрать $N$ моделей $(N \\geq 2)$ матричной факторизации и перебрать у них $K$ гиперпараметров $(K \\geq 2)$ **(5 баллов)**\n",
    "    - Для перебора гиперпараметров можно использовать [`Optuna`](https://github.com/optuna/optuna), [`Hyperopt`](https://github.com/hyperopt/hyperopt)\n",
    "- Воспользоваться методом приближенного поиска соседей для выдачи рекомендаций. **(2 балла)**\n",
    "    - Можно использовать любые удобные: [`Annoy`](https://github.com/spotify/annoy), [`nmslib`](https://github.com/nmslib/nmslib) и.т.д\n",
    "- Добавить 3 \"аватаров\" (искусственных пользователей) и посмотреть рекомендации итоговой модели на них. Объяснить почему добавили именно таких пользователей. **(2 балла)**\n",
    "- Придумать как можно обработать рекомендации для холодных пользователей. **(2 балла)**\n",
    "\n",
    "Примечание: за невоспроизводимый код в ноутбуках (например, нарушен порядок выполнения ячеек, вызываются переменные, которые нигде не были объявлены ранее и.т.п) будут штрафы на усмотрение проверяющего.\n",
    "\n",
    "\n",
    "## Реализация итоговой модели в сервисе (9 баллов)\n",
    "- Пробитие бейзлайна $MAP@10 \\geq 0.074921$ **(6 баллов)**\n",
    "- Код сервиса соответствует критериям читаемости и воспроизводимости **(3 балла)**\n",
    "\n",
    "\n",
    "\n"
   ],
   "metadata": {
    "collapsed": false,
    "pycharm": {
     "name": "#%% md\n"
    }
   }
  },
  {
   "cell_type": "code",
   "execution_count": 1,
   "metadata": {
    "pycharm": {
     "name": "#%%\n"
    }
   },
   "outputs": [],
   "source": [
    "import os\n",
    "import random\n",
    "\n",
    "os.environ[\"OPENBLAS_NUM_THREADS\"] = \"1\"  # For implicit ALS"
   ]
  },
  {
   "cell_type": "code",
   "execution_count": 2,
   "metadata": {
    "pycharm": {
     "name": "#%%\n"
    }
   },
   "outputs": [],
   "source": [
    "import warnings\n",
    "warnings.filterwarnings('ignore')"
   ]
  },
  {
   "cell_type": "code",
   "execution_count": 3,
   "metadata": {
    "pycharm": {
     "name": "#%%\n"
    }
   },
   "outputs": [],
   "source": [
    "import pandas as pd\n",
    "import numpy as np\n",
    "import pickle\n",
    "import optuna\n",
    "from functools import partial\n",
    "import time\n",
    "from implicit.als import AlternatingLeastSquares\n",
    "from rectools.metrics import Precision, Recall, MAP, calc_metrics\n",
    "from rectools.models import PopularModel, RandomModel, ImplicitALSWrapperModel\n",
    "from rectools import Columns\n",
    "from rectools.dataset import Dataset\n",
    "from rectools.models import ImplicitALSWrapperModel, LightFMWrapperModel\n",
    "import matplotlib.pyplot as plt\n",
    "import seaborn as sns\n",
    "from pathlib import Path\n",
    "import typing as tp\n",
    "from tqdm import tqdm\n",
    "from lightfm import LightFM\n",
    "from implicit.bpr import BayesianPersonalizedRanking\n",
    "from implicit.lmf import LogisticMatrixFactorization"
   ]
  },
  {
   "cell_type": "code",
   "execution_count": 4,
   "metadata": {
    "pycharm": {
     "name": "#%%\n"
    }
   },
   "outputs": [],
   "source": [
    "DATA_PATH = Path(\"data\")"
   ]
  },
  {
   "cell_type": "markdown",
   "metadata": {
    "pycharm": {
     "name": "#%% md\n"
    }
   },
   "source": [
    "# LOAD DATA"
   ]
  },
  {
   "cell_type": "code",
   "execution_count": 5,
   "metadata": {
    "pycharm": {
     "name": "#%%\n"
    }
   },
   "outputs": [
    {
     "name": "stdout",
     "output_type": "stream",
     "text": [
      "CPU times: user 3.56 s, sys: 1.08 s, total: 4.64 s\n",
      "Wall time: 4.7 s\n"
     ]
    }
   ],
   "source": [
    "%%time\n",
    "users = pd.read_csv(DATA_PATH / 'users.csv')\n",
    "items = pd.read_csv(DATA_PATH / 'items.csv')\n",
    "interactions = pd.read_csv(DATA_PATH / 'interactions.csv')"
   ]
  },
  {
   "cell_type": "markdown",
   "metadata": {
    "pycharm": {
     "name": "#%% md\n"
    }
   },
   "source": [
    "# Preprocess"
   ]
  },
  {
   "cell_type": "code",
   "execution_count": 6,
   "metadata": {
    "pycharm": {
     "name": "#%%\n"
    }
   },
   "outputs": [],
   "source": [
    "Columns.Datetime = 'last_watch_dt'"
   ]
  },
  {
   "cell_type": "code",
   "execution_count": 7,
   "metadata": {
    "pycharm": {
     "name": "#%%\n"
    }
   },
   "outputs": [],
   "source": [
    "interactions.drop(interactions[interactions[Columns.Datetime].str.len() != 10].index, inplace=True)"
   ]
  },
  {
   "cell_type": "code",
   "execution_count": 8,
   "metadata": {
    "pycharm": {
     "name": "#%%\n"
    }
   },
   "outputs": [],
   "source": [
    "interactions[Columns.Datetime] = pd.to_datetime(interactions[Columns.Datetime], format='%Y-%m-%d')"
   ]
  },
  {
   "cell_type": "code",
   "execution_count": 9,
   "metadata": {
    "pycharm": {
     "name": "#%%\n"
    }
   },
   "outputs": [],
   "source": [
    "max_date = interactions[Columns.Datetime].max()"
   ]
  },
  {
   "cell_type": "code",
   "execution_count": 10,
   "metadata": {
    "pycharm": {
     "name": "#%%\n"
    }
   },
   "outputs": [],
   "source": [
    "interactions[Columns.Weight] = np.where(interactions['watched_pct'] > 10, 3, 1)"
   ]
  },
  {
   "cell_type": "code",
   "execution_count": 11,
   "metadata": {
    "pycharm": {
     "name": "#%%\n"
    }
   },
   "outputs": [
    {
     "name": "stdout",
     "output_type": "stream",
     "text": [
      "train: (4985269, 6)\n",
      "test: (490982, 6)\n"
     ]
    }
   ],
   "source": [
    "train = interactions[interactions[Columns.Datetime] < max_date - pd.Timedelta(days=7)].copy()\n",
    "test = interactions[interactions[Columns.Datetime] >= max_date - pd.Timedelta(days=7)].copy()\n",
    "\n",
    "print(f\"train: {train.shape}\")\n",
    "print(f\"test: {test.shape}\")"
   ]
  },
  {
   "cell_type": "code",
   "execution_count": 12,
   "metadata": {
    "pycharm": {
     "name": "#%%\n"
    }
   },
   "outputs": [],
   "source": [
    "train.drop(train.query(\"total_dur < 300\").index, inplace=True)"
   ]
  },
  {
   "cell_type": "code",
   "execution_count": 13,
   "metadata": {
    "pycharm": {
     "name": "#%%\n"
    }
   },
   "outputs": [],
   "source": [
    "# отфильтруем холодных пользователей из теста\n",
    "cold_users = set(test[Columns.User]) - set(train[Columns.User])"
   ]
  },
  {
   "cell_type": "code",
   "execution_count": 14,
   "metadata": {
    "pycharm": {
     "name": "#%%\n"
    }
   },
   "outputs": [],
   "source": [
    "test.drop(test[test[Columns.User].isin(cold_users)].index, inplace=True)"
   ]
  },
  {
   "cell_type": "markdown",
   "metadata": {
    "pycharm": {
     "name": "#%% md\n"
    }
   },
   "source": [
    "# Prepare features and avatars"
   ]
  },
  {
   "cell_type": "markdown",
   "metadata": {
    "pycharm": {
     "name": "#%% md\n"
    }
   },
   "source": [
    "## User features"
   ]
  },
  {
   "cell_type": "code",
   "execution_count": 15,
   "metadata": {
    "pycharm": {
     "name": "#%%\n"
    }
   },
   "outputs": [
    {
     "data": {
      "text/plain": "user_id         0\nage         14095\nincome      14776\nsex         13831\nkids_flg        0\ndtype: int64"
     },
     "execution_count": 15,
     "metadata": {},
     "output_type": "execute_result"
    }
   ],
   "source": [
    "users.isnull().sum()"
   ]
  },
  {
   "cell_type": "code",
   "execution_count": 16,
   "metadata": {
    "pycharm": {
     "name": "#%%\n"
    }
   },
   "outputs": [],
   "source": [
    "users.fillna('Unknown', inplace=True)"
   ]
  },
  {
   "cell_type": "code",
   "execution_count": 17,
   "metadata": {
    "pycharm": {
     "name": "#%%\n"
    }
   },
   "outputs": [
    {
     "data": {
      "text/plain": "user_id     840197\nage              7\nincome           7\nsex              3\nkids_flg         2\ndtype: int64"
     },
     "execution_count": 17,
     "metadata": {},
     "output_type": "execute_result"
    }
   ],
   "source": [
    "users.nunique()"
   ]
  },
  {
   "cell_type": "code",
   "execution_count": 18,
   "metadata": {
    "pycharm": {
     "name": "#%%\n"
    }
   },
   "outputs": [],
   "source": [
    "users = users.loc[users[Columns.User].isin(train[Columns.User])].copy()"
   ]
  },
  {
   "cell_type": "code",
   "execution_count": 19,
   "metadata": {
    "pycharm": {
     "name": "#%%\n"
    }
   },
   "outputs": [
    {
     "data": {
      "text/plain": "        user_id         age        income sex  kids_flg\n0        973171   age_25_34  income_60_90   М         1\n1        962099   age_18_24  income_20_40   М         0\n3        721985   age_45_54  income_20_40   Ж         0\n4        704055   age_35_44  income_60_90   Ж         0\n5       1037719   age_45_54  income_60_90   М         0\n...         ...         ...           ...  ..       ...\n840184   529394   age_25_34  income_40_60   Ж         0\n840186    80113   age_25_34  income_40_60   Ж         0\n840188   312839  age_65_inf  income_60_90   Ж         0\n840189   191349   age_45_54  income_40_60   М         1\n840190   393868   age_25_34  income_20_40   М         0\n\n[586668 rows x 5 columns]",
      "text/html": "<div>\n<style scoped>\n    .dataframe tbody tr th:only-of-type {\n        vertical-align: middle;\n    }\n\n    .dataframe tbody tr th {\n        vertical-align: top;\n    }\n\n    .dataframe thead th {\n        text-align: right;\n    }\n</style>\n<table border=\"1\" class=\"dataframe\">\n  <thead>\n    <tr style=\"text-align: right;\">\n      <th></th>\n      <th>user_id</th>\n      <th>age</th>\n      <th>income</th>\n      <th>sex</th>\n      <th>kids_flg</th>\n    </tr>\n  </thead>\n  <tbody>\n    <tr>\n      <th>0</th>\n      <td>973171</td>\n      <td>age_25_34</td>\n      <td>income_60_90</td>\n      <td>М</td>\n      <td>1</td>\n    </tr>\n    <tr>\n      <th>1</th>\n      <td>962099</td>\n      <td>age_18_24</td>\n      <td>income_20_40</td>\n      <td>М</td>\n      <td>0</td>\n    </tr>\n    <tr>\n      <th>3</th>\n      <td>721985</td>\n      <td>age_45_54</td>\n      <td>income_20_40</td>\n      <td>Ж</td>\n      <td>0</td>\n    </tr>\n    <tr>\n      <th>4</th>\n      <td>704055</td>\n      <td>age_35_44</td>\n      <td>income_60_90</td>\n      <td>Ж</td>\n      <td>0</td>\n    </tr>\n    <tr>\n      <th>5</th>\n      <td>1037719</td>\n      <td>age_45_54</td>\n      <td>income_60_90</td>\n      <td>М</td>\n      <td>0</td>\n    </tr>\n    <tr>\n      <th>...</th>\n      <td>...</td>\n      <td>...</td>\n      <td>...</td>\n      <td>...</td>\n      <td>...</td>\n    </tr>\n    <tr>\n      <th>840184</th>\n      <td>529394</td>\n      <td>age_25_34</td>\n      <td>income_40_60</td>\n      <td>Ж</td>\n      <td>0</td>\n    </tr>\n    <tr>\n      <th>840186</th>\n      <td>80113</td>\n      <td>age_25_34</td>\n      <td>income_40_60</td>\n      <td>Ж</td>\n      <td>0</td>\n    </tr>\n    <tr>\n      <th>840188</th>\n      <td>312839</td>\n      <td>age_65_inf</td>\n      <td>income_60_90</td>\n      <td>Ж</td>\n      <td>0</td>\n    </tr>\n    <tr>\n      <th>840189</th>\n      <td>191349</td>\n      <td>age_45_54</td>\n      <td>income_40_60</td>\n      <td>М</td>\n      <td>1</td>\n    </tr>\n    <tr>\n      <th>840190</th>\n      <td>393868</td>\n      <td>age_25_34</td>\n      <td>income_20_40</td>\n      <td>М</td>\n      <td>0</td>\n    </tr>\n  </tbody>\n</table>\n<p>586668 rows × 5 columns</p>\n</div>"
     },
     "execution_count": 19,
     "metadata": {},
     "output_type": "execute_result"
    }
   ],
   "source": [
    "users"
   ]
  },
  {
   "cell_type": "code",
   "execution_count": 19,
   "outputs": [],
   "source": [],
   "metadata": {
    "collapsed": false,
    "pycharm": {
     "name": "#%%\n"
    }
   }
  },
  {
   "cell_type": "markdown",
   "source": [],
   "metadata": {
    "collapsed": false,
    "pycharm": {
     "name": "#%% md\n"
    }
   }
  },
  {
   "cell_type": "markdown",
   "source": [
    "### Добавляем 3 аватаров и смотрим их рекомендации"
   ],
   "metadata": {
    "collapsed": false,
    "pycharm": {
     "name": "#%% md\n"
    }
   }
  },
  {
   "cell_type": "code",
   "execution_count": 20,
   "outputs": [
    {
     "data": {
      "text/plain": "         user_id  item_id last_watch_dt  total_dur  watched_pct  weight  \\\n0         176549     9506    2021-05-11       4250         72.0       3   \n1         964868     9506    2021-04-30       6725        100.0       3   \n2         450170     9506    2021-07-18        848         14.0       3   \n3         683820     9506    2021-06-28       2617         44.0       3   \n4         547714     9506    2021-08-07       5494         93.0       3   \n...          ...      ...           ...        ...          ...     ...   \n3832706    57116     1289    2021-08-02        623         11.0       3   \n3832707   619743    13516    2021-07-11      14985         27.0       3   \n3832708   336077    14064    2021-05-04       3914         76.0       3   \n3832709   781807    11002    2021-04-10       6750         94.0       3   \n3832710   740277    10542    2021-04-04        792        100.0       3   \n\n        content_type                                          title  \\\n0               film                                Холодное сердце   \n1               film                                Холодное сердце   \n2               film                                Холодное сердце   \n3               film                                Холодное сердце   \n4               film                                Холодное сердце   \n...              ...                                            ...   \n3832706         film                               Два билета домой   \n3832707       series                                         Звери.   \n3832708         film                                        Свадьба   \n3832709         film                                    Будь круче!   \n3832710         film  [4К] Пресноводные черепахи Чолутека. Гондурас   \n\n                             title_orig  release_year  \\\n0                                Frozen        2013.0   \n1                                Frozen        2013.0   \n2                                Frozen        2013.0   \n3                                Frozen        2013.0   \n4                                Frozen        2013.0   \n...                                 ...           ...   \n3832706                             NaN        2018.0   \n3832707                        Animals.        2016.0   \n3832708                        Ceremony        2010.0   \n3832709                         Be Cool        2005.0   \n3832710  Choluteca's freshwater turtles        2020.0   \n\n                                                    genres countries  \\\n0                         фэнтези, мультфильм, музыкальные       США   \n1                         фэнтези, мультфильм, музыкальные       США   \n2                         фэнтези, мультфильм, музыкальные       США   \n3                         фэнтези, мультфильм, музыкальные       США   \n4                         фэнтези, мультфильм, музыкальные       США   \n...                                                    ...       ...   \n3832706                                     драмы, русские    Россия   \n3832707                                  анимация, комедии       США   \n3832708                     зарубежные, комедии, мелодрамы       США   \n3832709  криминал, музыкальные, зарубежные, мелодрамы, ...       США   \n3832710                                     документальное   Франция   \n\n         for_kids  age_rating studios                  directors  \\\n0             NaN         0.0     NaN     Крис Бак, Дженнифер Ли   \n1             NaN         0.0     NaN     Крис Бак, Дженнифер Ли   \n2             NaN         0.0     NaN     Крис Бак, Дженнифер Ли   \n3             NaN         0.0     NaN     Крис Бак, Дженнифер Ли   \n4             NaN         0.0     NaN     Крис Бак, Дженнифер Ли   \n...           ...         ...     ...                        ...   \n3832706       NaN        18.0     NaN            Дмитрий Месхиев   \n3832707       NaN        18.0     HBO  Майк Лучиано, Уэсли Арчер   \n3832708       NaN        16.0     NaN               Макс Уинклер   \n3832709       NaN        16.0     NaN               Ф. Гэри Грей   \n3832710       NaN        12.0     NaN             Оливье Шиабоду   \n\n                                                    actors  \\\n0        Кристен Белл, Идина Мензел, Джонатан Грофф, Дж...   \n1        Кристен Белл, Идина Мензел, Джонатан Грофф, Дж...   \n2        Кристен Белл, Идина Мензел, Джонатан Грофф, Дж...   \n3        Кристен Белл, Идина Мензел, Джонатан Грофф, Дж...   \n4        Кристен Белл, Идина Мензел, Джонатан Грофф, Дж...   \n...                                                    ...   \n3832706  Евгений Ткачук, Ирина Рахманова, Ирина Розанов...   \n3832707  Кэтрин Аселтон, Майк Лучиано, Меган О’Нилл, Мэ...   \n3832708  Джейк Джонсон, Ли Пейс, Майкл Ангарано, Рис То...   \n3832709  Андре Бенджамин, Винс Вон, Джеймс Вудс, Джон Т...   \n3832710                                                NaN   \n\n                                               description  \\\n0        Когда сбывается древнее предсказание, и короле...   \n1        Когда сбывается древнее предсказание, и короле...   \n2        Когда сбывается древнее предсказание, и короле...   \n3        Когда сбывается древнее предсказание, и короле...   \n4        Когда сбывается древнее предсказание, и короле...   \n...                                                    ...   \n3832706  Воспитанница детдома Люба узнает, что она не с...   \n3832707  Комедийная анимационная фантазия от создателей...   \n3832708  Ума Турман, Брук Блум и Рис Томпсон никак не м...   \n3832709  Американская комедия от режиссера Ф. Гэри Грея...   \n3832710  Когда в южном Гондурасе очень жарко, черепахи ...   \n\n                                                  keywords  \n0        королева, мюзикл, принцесса, предательство, сн...  \n1        королева, мюзикл, принцесса, предательство, сн...  \n2        королева, мюзикл, принцесса, предательство, сн...  \n3        королева, мюзикл, принцесса, предательство, сн...  \n4        королева, мюзикл, принцесса, предательство, сн...  \n...                                                    ...  \n3832706  Два, билета, домой, 2018, Россия, месть, отцы,...  \n3832707                                   Звери, 2016, США  \n3832708  Свадьба, 2010, США, безответная, любовь, друзь...  \n3832709  Будь, круче, 2005, США, бандиты, гангстеры, му...  \n3832710  2020, франция, 4к, пресноводные, черепахи, чол...  \n\n[3832711 rows x 19 columns]",
      "text/html": "<div>\n<style scoped>\n    .dataframe tbody tr th:only-of-type {\n        vertical-align: middle;\n    }\n\n    .dataframe tbody tr th {\n        vertical-align: top;\n    }\n\n    .dataframe thead th {\n        text-align: right;\n    }\n</style>\n<table border=\"1\" class=\"dataframe\">\n  <thead>\n    <tr style=\"text-align: right;\">\n      <th></th>\n      <th>user_id</th>\n      <th>item_id</th>\n      <th>last_watch_dt</th>\n      <th>total_dur</th>\n      <th>watched_pct</th>\n      <th>weight</th>\n      <th>content_type</th>\n      <th>title</th>\n      <th>title_orig</th>\n      <th>release_year</th>\n      <th>genres</th>\n      <th>countries</th>\n      <th>for_kids</th>\n      <th>age_rating</th>\n      <th>studios</th>\n      <th>directors</th>\n      <th>actors</th>\n      <th>description</th>\n      <th>keywords</th>\n    </tr>\n  </thead>\n  <tbody>\n    <tr>\n      <th>0</th>\n      <td>176549</td>\n      <td>9506</td>\n      <td>2021-05-11</td>\n      <td>4250</td>\n      <td>72.0</td>\n      <td>3</td>\n      <td>film</td>\n      <td>Холодное сердце</td>\n      <td>Frozen</td>\n      <td>2013.0</td>\n      <td>фэнтези, мультфильм, музыкальные</td>\n      <td>США</td>\n      <td>NaN</td>\n      <td>0.0</td>\n      <td>NaN</td>\n      <td>Крис Бак, Дженнифер Ли</td>\n      <td>Кристен Белл, Идина Мензел, Джонатан Грофф, Дж...</td>\n      <td>Когда сбывается древнее предсказание, и короле...</td>\n      <td>королева, мюзикл, принцесса, предательство, сн...</td>\n    </tr>\n    <tr>\n      <th>1</th>\n      <td>964868</td>\n      <td>9506</td>\n      <td>2021-04-30</td>\n      <td>6725</td>\n      <td>100.0</td>\n      <td>3</td>\n      <td>film</td>\n      <td>Холодное сердце</td>\n      <td>Frozen</td>\n      <td>2013.0</td>\n      <td>фэнтези, мультфильм, музыкальные</td>\n      <td>США</td>\n      <td>NaN</td>\n      <td>0.0</td>\n      <td>NaN</td>\n      <td>Крис Бак, Дженнифер Ли</td>\n      <td>Кристен Белл, Идина Мензел, Джонатан Грофф, Дж...</td>\n      <td>Когда сбывается древнее предсказание, и короле...</td>\n      <td>королева, мюзикл, принцесса, предательство, сн...</td>\n    </tr>\n    <tr>\n      <th>2</th>\n      <td>450170</td>\n      <td>9506</td>\n      <td>2021-07-18</td>\n      <td>848</td>\n      <td>14.0</td>\n      <td>3</td>\n      <td>film</td>\n      <td>Холодное сердце</td>\n      <td>Frozen</td>\n      <td>2013.0</td>\n      <td>фэнтези, мультфильм, музыкальные</td>\n      <td>США</td>\n      <td>NaN</td>\n      <td>0.0</td>\n      <td>NaN</td>\n      <td>Крис Бак, Дженнифер Ли</td>\n      <td>Кристен Белл, Идина Мензел, Джонатан Грофф, Дж...</td>\n      <td>Когда сбывается древнее предсказание, и короле...</td>\n      <td>королева, мюзикл, принцесса, предательство, сн...</td>\n    </tr>\n    <tr>\n      <th>3</th>\n      <td>683820</td>\n      <td>9506</td>\n      <td>2021-06-28</td>\n      <td>2617</td>\n      <td>44.0</td>\n      <td>3</td>\n      <td>film</td>\n      <td>Холодное сердце</td>\n      <td>Frozen</td>\n      <td>2013.0</td>\n      <td>фэнтези, мультфильм, музыкальные</td>\n      <td>США</td>\n      <td>NaN</td>\n      <td>0.0</td>\n      <td>NaN</td>\n      <td>Крис Бак, Дженнифер Ли</td>\n      <td>Кристен Белл, Идина Мензел, Джонатан Грофф, Дж...</td>\n      <td>Когда сбывается древнее предсказание, и короле...</td>\n      <td>королева, мюзикл, принцесса, предательство, сн...</td>\n    </tr>\n    <tr>\n      <th>4</th>\n      <td>547714</td>\n      <td>9506</td>\n      <td>2021-08-07</td>\n      <td>5494</td>\n      <td>93.0</td>\n      <td>3</td>\n      <td>film</td>\n      <td>Холодное сердце</td>\n      <td>Frozen</td>\n      <td>2013.0</td>\n      <td>фэнтези, мультфильм, музыкальные</td>\n      <td>США</td>\n      <td>NaN</td>\n      <td>0.0</td>\n      <td>NaN</td>\n      <td>Крис Бак, Дженнифер Ли</td>\n      <td>Кристен Белл, Идина Мензел, Джонатан Грофф, Дж...</td>\n      <td>Когда сбывается древнее предсказание, и короле...</td>\n      <td>королева, мюзикл, принцесса, предательство, сн...</td>\n    </tr>\n    <tr>\n      <th>...</th>\n      <td>...</td>\n      <td>...</td>\n      <td>...</td>\n      <td>...</td>\n      <td>...</td>\n      <td>...</td>\n      <td>...</td>\n      <td>...</td>\n      <td>...</td>\n      <td>...</td>\n      <td>...</td>\n      <td>...</td>\n      <td>...</td>\n      <td>...</td>\n      <td>...</td>\n      <td>...</td>\n      <td>...</td>\n      <td>...</td>\n      <td>...</td>\n    </tr>\n    <tr>\n      <th>3832706</th>\n      <td>57116</td>\n      <td>1289</td>\n      <td>2021-08-02</td>\n      <td>623</td>\n      <td>11.0</td>\n      <td>3</td>\n      <td>film</td>\n      <td>Два билета домой</td>\n      <td>NaN</td>\n      <td>2018.0</td>\n      <td>драмы, русские</td>\n      <td>Россия</td>\n      <td>NaN</td>\n      <td>18.0</td>\n      <td>NaN</td>\n      <td>Дмитрий Месхиев</td>\n      <td>Евгений Ткачук, Ирина Рахманова, Ирина Розанов...</td>\n      <td>Воспитанница детдома Люба узнает, что она не с...</td>\n      <td>Два, билета, домой, 2018, Россия, месть, отцы,...</td>\n    </tr>\n    <tr>\n      <th>3832707</th>\n      <td>619743</td>\n      <td>13516</td>\n      <td>2021-07-11</td>\n      <td>14985</td>\n      <td>27.0</td>\n      <td>3</td>\n      <td>series</td>\n      <td>Звери.</td>\n      <td>Animals.</td>\n      <td>2016.0</td>\n      <td>анимация, комедии</td>\n      <td>США</td>\n      <td>NaN</td>\n      <td>18.0</td>\n      <td>HBO</td>\n      <td>Майк Лучиано, Уэсли Арчер</td>\n      <td>Кэтрин Аселтон, Майк Лучиано, Меган О’Нилл, Мэ...</td>\n      <td>Комедийная анимационная фантазия от создателей...</td>\n      <td>Звери, 2016, США</td>\n    </tr>\n    <tr>\n      <th>3832708</th>\n      <td>336077</td>\n      <td>14064</td>\n      <td>2021-05-04</td>\n      <td>3914</td>\n      <td>76.0</td>\n      <td>3</td>\n      <td>film</td>\n      <td>Свадьба</td>\n      <td>Ceremony</td>\n      <td>2010.0</td>\n      <td>зарубежные, комедии, мелодрамы</td>\n      <td>США</td>\n      <td>NaN</td>\n      <td>16.0</td>\n      <td>NaN</td>\n      <td>Макс Уинклер</td>\n      <td>Джейк Джонсон, Ли Пейс, Майкл Ангарано, Рис То...</td>\n      <td>Ума Турман, Брук Блум и Рис Томпсон никак не м...</td>\n      <td>Свадьба, 2010, США, безответная, любовь, друзь...</td>\n    </tr>\n    <tr>\n      <th>3832709</th>\n      <td>781807</td>\n      <td>11002</td>\n      <td>2021-04-10</td>\n      <td>6750</td>\n      <td>94.0</td>\n      <td>3</td>\n      <td>film</td>\n      <td>Будь круче!</td>\n      <td>Be Cool</td>\n      <td>2005.0</td>\n      <td>криминал, музыкальные, зарубежные, мелодрамы, ...</td>\n      <td>США</td>\n      <td>NaN</td>\n      <td>16.0</td>\n      <td>NaN</td>\n      <td>Ф. Гэри Грей</td>\n      <td>Андре Бенджамин, Винс Вон, Джеймс Вудс, Джон Т...</td>\n      <td>Американская комедия от режиссера Ф. Гэри Грея...</td>\n      <td>Будь, круче, 2005, США, бандиты, гангстеры, му...</td>\n    </tr>\n    <tr>\n      <th>3832710</th>\n      <td>740277</td>\n      <td>10542</td>\n      <td>2021-04-04</td>\n      <td>792</td>\n      <td>100.0</td>\n      <td>3</td>\n      <td>film</td>\n      <td>[4К] Пресноводные черепахи Чолутека. Гондурас</td>\n      <td>Choluteca's freshwater turtles</td>\n      <td>2020.0</td>\n      <td>документальное</td>\n      <td>Франция</td>\n      <td>NaN</td>\n      <td>12.0</td>\n      <td>NaN</td>\n      <td>Оливье Шиабоду</td>\n      <td>NaN</td>\n      <td>Когда в южном Гондурасе очень жарко, черепахи ...</td>\n      <td>2020, франция, 4к, пресноводные, черепахи, чол...</td>\n    </tr>\n  </tbody>\n</table>\n<p>3832711 rows × 19 columns</p>\n</div>"
     },
     "execution_count": 20,
     "metadata": {},
     "output_type": "execute_result"
    }
   ],
   "source": [
    "interactions_items = train.merge(items, on=Columns.Item)\n",
    "interactions_items"
   ],
   "metadata": {
    "collapsed": false,
    "pycharm": {
     "name": "#%%\n"
    }
   }
  },
  {
   "cell_type": "code",
   "execution_count": 21,
   "outputs": [],
   "source": [
    "maxid = interactions_items.user_id.unique().max()"
   ],
   "metadata": {
    "collapsed": false,
    "pycharm": {
     "name": "#%%\n"
    }
   }
  },
  {
   "cell_type": "markdown",
   "source": [
    "### 1st user: Horror Person"
   ],
   "metadata": {
    "collapsed": false,
    "pycharm": {
     "name": "#%% md\n"
    }
   }
  },
  {
   "cell_type": "code",
   "execution_count": 22,
   "outputs": [],
   "source": [
    "horror_interactions = interactions_items[(interactions_items.age_rating >= 18) & (interactions_items.genres.str.contains('ужасы')) & (interactions_items.watched_pct >= 80)]"
   ],
   "metadata": {
    "collapsed": false,
    "pycharm": {
     "name": "#%%\n"
    }
   }
  },
  {
   "cell_type": "code",
   "execution_count": 23,
   "outputs": [],
   "source": [
    "horror_person_intercations = horror_interactions.item_id.unique()[:5]"
   ],
   "metadata": {
    "collapsed": false,
    "pycharm": {
     "name": "#%%\n"
    }
   }
  },
  {
   "cell_type": "code",
   "execution_count": 24,
   "outputs": [],
   "source": [
    "horror_person_id = maxid + 1"
   ],
   "metadata": {
    "collapsed": false,
    "pycharm": {
     "name": "#%%\n"
    }
   }
  },
  {
   "cell_type": "code",
   "execution_count": 25,
   "outputs": [],
   "source": [
    "users = users.append({\n",
    "    'user_id': horror_person_id,\n",
    "    'age': 'age_35_44',\n",
    "    'income': 'income_60_90',\n",
    "    'sex': 'М',\n",
    "    'kids_flg': 0\n",
    "}, ignore_index=True)"
   ],
   "metadata": {
    "collapsed": false,
    "pycharm": {
     "name": "#%%\n"
    }
   }
  },
  {
   "cell_type": "code",
   "execution_count": 26,
   "outputs": [],
   "source": [
    "def add_interactions(interactions, user_id, item_ids):\n",
    "    to_append = [{\n",
    "        'user_id': user_id,\n",
    "        'item_id': item_id,\n",
    "        'last_watch_dt': np.datetime64(f'2021-0{random.randint(1,9)}-1{random.randint(0,9)}'),\n",
    "        'total_dur': 0,\n",
    "        'weight': 5,\n",
    "        'watched_pct': random.randint(80, 100),\n",
    "    } for item_id in item_ids]\n",
    "    interactions = interactions.append(to_append)\n",
    "    return interactions"
   ],
   "metadata": {
    "collapsed": false,
    "pycharm": {
     "name": "#%%\n"
    }
   }
  },
  {
   "cell_type": "code",
   "execution_count": 27,
   "outputs": [],
   "source": [
    "train = add_interactions(train, horror_person_id, horror_person_intercations)"
   ],
   "metadata": {
    "collapsed": false,
    "pycharm": {
     "name": "#%%\n"
    }
   }
  },
  {
   "cell_type": "code",
   "execution_count": 28,
   "outputs": [
    {
     "data": {
      "text/plain": "   user_id  item_id last_watch_dt  total_dur  watched_pct  weight\n0  1097558      693    2021-08-19          0         82.0       5\n1  1097558    16237    2021-03-15          0         91.0       5\n2  1097558     1465    2021-03-18          0         95.0       5\n3  1097558     9381    2021-08-13          0         85.0       5\n4  1097558     5287    2021-05-17          0         97.0       5",
      "text/html": "<div>\n<style scoped>\n    .dataframe tbody tr th:only-of-type {\n        vertical-align: middle;\n    }\n\n    .dataframe tbody tr th {\n        vertical-align: top;\n    }\n\n    .dataframe thead th {\n        text-align: right;\n    }\n</style>\n<table border=\"1\" class=\"dataframe\">\n  <thead>\n    <tr style=\"text-align: right;\">\n      <th></th>\n      <th>user_id</th>\n      <th>item_id</th>\n      <th>last_watch_dt</th>\n      <th>total_dur</th>\n      <th>watched_pct</th>\n      <th>weight</th>\n    </tr>\n  </thead>\n  <tbody>\n    <tr>\n      <th>0</th>\n      <td>1097558</td>\n      <td>693</td>\n      <td>2021-08-19</td>\n      <td>0</td>\n      <td>82.0</td>\n      <td>5</td>\n    </tr>\n    <tr>\n      <th>1</th>\n      <td>1097558</td>\n      <td>16237</td>\n      <td>2021-03-15</td>\n      <td>0</td>\n      <td>91.0</td>\n      <td>5</td>\n    </tr>\n    <tr>\n      <th>2</th>\n      <td>1097558</td>\n      <td>1465</td>\n      <td>2021-03-18</td>\n      <td>0</td>\n      <td>95.0</td>\n      <td>5</td>\n    </tr>\n    <tr>\n      <th>3</th>\n      <td>1097558</td>\n      <td>9381</td>\n      <td>2021-08-13</td>\n      <td>0</td>\n      <td>85.0</td>\n      <td>5</td>\n    </tr>\n    <tr>\n      <th>4</th>\n      <td>1097558</td>\n      <td>5287</td>\n      <td>2021-05-17</td>\n      <td>0</td>\n      <td>97.0</td>\n      <td>5</td>\n    </tr>\n  </tbody>\n</table>\n</div>"
     },
     "execution_count": 28,
     "metadata": {},
     "output_type": "execute_result"
    }
   ],
   "source": [
    "train[train.user_id == horror_person_id]"
   ],
   "metadata": {
    "collapsed": false,
    "pycharm": {
     "name": "#%%\n"
    }
   }
  },
  {
   "cell_type": "markdown",
   "source": [
    "### 2nd user: Person who likes Comedy under 18"
   ],
   "metadata": {
    "collapsed": false,
    "pycharm": {
     "name": "#%% md\n"
    }
   }
  },
  {
   "cell_type": "code",
   "execution_count": 29,
   "outputs": [],
   "source": [
    "comedy_interactions = interactions_items[(interactions_items.age_rating == 16) & (interactions_items.genres.str.contains('комедии')) & (interactions_items.watched_pct >= 80)]"
   ],
   "metadata": {
    "collapsed": false,
    "pycharm": {
     "name": "#%%\n"
    }
   }
  },
  {
   "cell_type": "code",
   "execution_count": 30,
   "outputs": [],
   "source": [
    "comedy_person_intercations = comedy_interactions.item_id.unique()[:5]"
   ],
   "metadata": {
    "collapsed": false,
    "pycharm": {
     "name": "#%%\n"
    }
   }
  },
  {
   "cell_type": "code",
   "execution_count": 31,
   "outputs": [],
   "source": [
    "comedy_person_id = maxid + 2"
   ],
   "metadata": {
    "collapsed": false,
    "pycharm": {
     "name": "#%%\n"
    }
   }
  },
  {
   "cell_type": "code",
   "execution_count": 32,
   "outputs": [],
   "source": [
    "users = users.append({\n",
    "    'user_id': comedy_person_id,\n",
    "    'age': 'age_18_24',\n",
    "    'income': 'income_40_60',\n",
    "    'sex': 'М',\n",
    "    'kids_flg': 0\n",
    "}, ignore_index=True)"
   ],
   "metadata": {
    "collapsed": false,
    "pycharm": {
     "name": "#%%\n"
    }
   }
  },
  {
   "cell_type": "code",
   "execution_count": 33,
   "outputs": [],
   "source": [
    "train = add_interactions(train, comedy_person_id, comedy_person_intercations)"
   ],
   "metadata": {
    "collapsed": false,
    "pycharm": {
     "name": "#%%\n"
    }
   }
  },
  {
   "cell_type": "code",
   "execution_count": 34,
   "outputs": [
    {
     "data": {
      "text/plain": "   user_id  item_id last_watch_dt  total_dur  watched_pct  weight\n0  1097559     3935    2021-05-13          0         80.0       5\n1  1097559     6208    2021-01-16          0         86.0       5\n2  1097559     1819    2021-08-19          0         88.0       5\n3  1097559     5658    2021-04-14          0         82.0       5\n4  1097559     3614    2021-06-15          0         81.0       5",
      "text/html": "<div>\n<style scoped>\n    .dataframe tbody tr th:only-of-type {\n        vertical-align: middle;\n    }\n\n    .dataframe tbody tr th {\n        vertical-align: top;\n    }\n\n    .dataframe thead th {\n        text-align: right;\n    }\n</style>\n<table border=\"1\" class=\"dataframe\">\n  <thead>\n    <tr style=\"text-align: right;\">\n      <th></th>\n      <th>user_id</th>\n      <th>item_id</th>\n      <th>last_watch_dt</th>\n      <th>total_dur</th>\n      <th>watched_pct</th>\n      <th>weight</th>\n    </tr>\n  </thead>\n  <tbody>\n    <tr>\n      <th>0</th>\n      <td>1097559</td>\n      <td>3935</td>\n      <td>2021-05-13</td>\n      <td>0</td>\n      <td>80.0</td>\n      <td>5</td>\n    </tr>\n    <tr>\n      <th>1</th>\n      <td>1097559</td>\n      <td>6208</td>\n      <td>2021-01-16</td>\n      <td>0</td>\n      <td>86.0</td>\n      <td>5</td>\n    </tr>\n    <tr>\n      <th>2</th>\n      <td>1097559</td>\n      <td>1819</td>\n      <td>2021-08-19</td>\n      <td>0</td>\n      <td>88.0</td>\n      <td>5</td>\n    </tr>\n    <tr>\n      <th>3</th>\n      <td>1097559</td>\n      <td>5658</td>\n      <td>2021-04-14</td>\n      <td>0</td>\n      <td>82.0</td>\n      <td>5</td>\n    </tr>\n    <tr>\n      <th>4</th>\n      <td>1097559</td>\n      <td>3614</td>\n      <td>2021-06-15</td>\n      <td>0</td>\n      <td>81.0</td>\n      <td>5</td>\n    </tr>\n  </tbody>\n</table>\n</div>"
     },
     "execution_count": 34,
     "metadata": {},
     "output_type": "execute_result"
    }
   ],
   "source": [
    "train[train.user_id == comedy_person_id]"
   ],
   "metadata": {
    "collapsed": false,
    "pycharm": {
     "name": "#%%\n"
    }
   }
  },
  {
   "cell_type": "markdown",
   "source": [
    "### 3rd user: Mother with kid using her account"
   ],
   "metadata": {
    "collapsed": false,
    "pycharm": {
     "name": "#%% md\n"
    }
   }
  },
  {
   "cell_type": "code",
   "execution_count": 35,
   "outputs": [],
   "source": [
    "mommy_interactions = interactions_items[(interactions_items.age_rating == 0) & (interactions_items.watched_pct >= 80)]"
   ],
   "metadata": {
    "collapsed": false,
    "pycharm": {
     "name": "#%%\n"
    }
   }
  },
  {
   "cell_type": "code",
   "execution_count": 36,
   "outputs": [],
   "source": [
    "mommy_person_intercations = mommy_interactions.item_id.unique()[:5]"
   ],
   "metadata": {
    "collapsed": false,
    "pycharm": {
     "name": "#%%\n"
    }
   }
  },
  {
   "cell_type": "code",
   "execution_count": 37,
   "outputs": [],
   "source": [
    "mommy_person_id = maxid + 3"
   ],
   "metadata": {
    "collapsed": false,
    "pycharm": {
     "name": "#%%\n"
    }
   }
  },
  {
   "cell_type": "code",
   "execution_count": 38,
   "outputs": [],
   "source": [
    "users = users.append({\n",
    "    'user_id': mommy_person_id,\n",
    "    'age': 'age_55_64',\n",
    "    'income': 'income_40_60',\n",
    "    'sex': 'Ж',\n",
    "    'kids_flg': 1\n",
    "}, ignore_index=True)"
   ],
   "metadata": {
    "collapsed": false,
    "pycharm": {
     "name": "#%%\n"
    }
   }
  },
  {
   "cell_type": "code",
   "execution_count": 39,
   "outputs": [],
   "source": [
    "train = add_interactions(train, mommy_person_id, mommy_person_intercations)"
   ],
   "metadata": {
    "collapsed": false,
    "pycharm": {
     "name": "#%%\n"
    }
   }
  },
  {
   "cell_type": "code",
   "execution_count": 40,
   "outputs": [
    {
     "data": {
      "text/plain": "   user_id  item_id last_watch_dt  total_dur  watched_pct  weight\n0  1097560     9506    2021-09-14          0         84.0       5\n1  1097560     8143    2021-08-11          0        100.0       5\n2  1097560    14120    2021-02-18          0         85.0       5\n3  1097560    16029    2021-04-10          0         94.0       5\n4  1097560    10119    2021-04-19          0         91.0       5",
      "text/html": "<div>\n<style scoped>\n    .dataframe tbody tr th:only-of-type {\n        vertical-align: middle;\n    }\n\n    .dataframe tbody tr th {\n        vertical-align: top;\n    }\n\n    .dataframe thead th {\n        text-align: right;\n    }\n</style>\n<table border=\"1\" class=\"dataframe\">\n  <thead>\n    <tr style=\"text-align: right;\">\n      <th></th>\n      <th>user_id</th>\n      <th>item_id</th>\n      <th>last_watch_dt</th>\n      <th>total_dur</th>\n      <th>watched_pct</th>\n      <th>weight</th>\n    </tr>\n  </thead>\n  <tbody>\n    <tr>\n      <th>0</th>\n      <td>1097560</td>\n      <td>9506</td>\n      <td>2021-09-14</td>\n      <td>0</td>\n      <td>84.0</td>\n      <td>5</td>\n    </tr>\n    <tr>\n      <th>1</th>\n      <td>1097560</td>\n      <td>8143</td>\n      <td>2021-08-11</td>\n      <td>0</td>\n      <td>100.0</td>\n      <td>5</td>\n    </tr>\n    <tr>\n      <th>2</th>\n      <td>1097560</td>\n      <td>14120</td>\n      <td>2021-02-18</td>\n      <td>0</td>\n      <td>85.0</td>\n      <td>5</td>\n    </tr>\n    <tr>\n      <th>3</th>\n      <td>1097560</td>\n      <td>16029</td>\n      <td>2021-04-10</td>\n      <td>0</td>\n      <td>94.0</td>\n      <td>5</td>\n    </tr>\n    <tr>\n      <th>4</th>\n      <td>1097560</td>\n      <td>10119</td>\n      <td>2021-04-19</td>\n      <td>0</td>\n      <td>91.0</td>\n      <td>5</td>\n    </tr>\n  </tbody>\n</table>\n</div>"
     },
     "execution_count": 40,
     "metadata": {},
     "output_type": "execute_result"
    }
   ],
   "source": [
    "train[train.user_id == mommy_person_id]"
   ],
   "metadata": {
    "collapsed": false,
    "pycharm": {
     "name": "#%%\n"
    }
   }
  },
  {
   "cell_type": "code",
   "execution_count": 41,
   "outputs": [
    {
     "data": {
      "text/plain": "[1097558, 1097559, 1097560]"
     },
     "execution_count": 41,
     "metadata": {},
     "output_type": "execute_result"
    }
   ],
   "source": [
    "avatars = [horror_person_id, comedy_person_id, mommy_person_id]\n",
    "avatars"
   ],
   "metadata": {
    "collapsed": false,
    "pycharm": {
     "name": "#%%\n"
    }
   }
  },
  {
   "cell_type": "code",
   "execution_count": 42,
   "metadata": {
    "pycharm": {
     "name": "#%%\n"
    }
   },
   "outputs": [
    {
     "data": {
      "text/plain": "        id value feature\n0   973171     М     sex\n1   962099     М     sex\n2   721985     Ж     sex\n3   704055     Ж     sex\n4  1037719     М     sex",
      "text/html": "<div>\n<style scoped>\n    .dataframe tbody tr th:only-of-type {\n        vertical-align: middle;\n    }\n\n    .dataframe tbody tr th {\n        vertical-align: top;\n    }\n\n    .dataframe thead th {\n        text-align: right;\n    }\n</style>\n<table border=\"1\" class=\"dataframe\">\n  <thead>\n    <tr style=\"text-align: right;\">\n      <th></th>\n      <th>id</th>\n      <th>value</th>\n      <th>feature</th>\n    </tr>\n  </thead>\n  <tbody>\n    <tr>\n      <th>0</th>\n      <td>973171</td>\n      <td>М</td>\n      <td>sex</td>\n    </tr>\n    <tr>\n      <th>1</th>\n      <td>962099</td>\n      <td>М</td>\n      <td>sex</td>\n    </tr>\n    <tr>\n      <th>2</th>\n      <td>721985</td>\n      <td>Ж</td>\n      <td>sex</td>\n    </tr>\n    <tr>\n      <th>3</th>\n      <td>704055</td>\n      <td>Ж</td>\n      <td>sex</td>\n    </tr>\n    <tr>\n      <th>4</th>\n      <td>1037719</td>\n      <td>М</td>\n      <td>sex</td>\n    </tr>\n  </tbody>\n</table>\n</div>"
     },
     "execution_count": 42,
     "metadata": {},
     "output_type": "execute_result"
    }
   ],
   "source": [
    "user_features_frames = []\n",
    "for feature in [\"sex\", \"age\", \"income\"]:\n",
    "    feature_frame = users.reindex(columns=[Columns.User, feature])\n",
    "    feature_frame.columns = [\"id\", \"value\"]\n",
    "    feature_frame[\"feature\"] = feature\n",
    "    user_features_frames.append(feature_frame)\n",
    "user_features = pd.concat(user_features_frames)\n",
    "user_features.head()"
   ]
  },
  {
   "cell_type": "markdown",
   "metadata": {
    "pycharm": {
     "name": "#%% md\n"
    }
   },
   "source": [
    "# Item features"
   ]
  },
  {
   "cell_type": "code",
   "execution_count": 43,
   "metadata": {
    "pycharm": {
     "name": "#%%\n"
    }
   },
   "outputs": [
    {
     "data": {
      "text/plain": "item_id             0\ncontent_type        0\ntitle               0\ntitle_orig       4745\nrelease_year       98\ngenres              0\ncountries          37\nfor_kids        15397\nage_rating          2\nstudios         14898\ndirectors        1509\nactors           2619\ndescription         2\nkeywords          423\ndtype: int64"
     },
     "execution_count": 43,
     "metadata": {},
     "output_type": "execute_result"
    }
   ],
   "source": [
    "items.isnull().sum()"
   ]
  },
  {
   "cell_type": "code",
   "execution_count": 43,
   "outputs": [],
   "source": [],
   "metadata": {
    "collapsed": false,
    "pycharm": {
     "name": "#%%\n"
    }
   }
  },
  {
   "cell_type": "code",
   "execution_count": 44,
   "outputs": [
    {
     "data": {
      "text/plain": "       item_id content_type                 title      title_orig  \\\n0        10711         film        Поговори с ней  Hable con ella   \n1         2508         film           Голые перцы    Search Party   \n2        10716         film      Тактическая сила  Tactical Force   \n3         7868         film                45 лет        45 Years   \n4        16268         film  Все решает мгновение             NaN   \n...        ...          ...                   ...             ...   \n15958     6443       series         Полярный круг   Arctic Circle   \n15959     2367       series               Надежда             NaN   \n15960    10632       series                Сговор          Hassel   \n15961     4538       series          Среди камней      Darklands    \n15962     3206       series                  Гоша             NaN   \n\n       release_year                                            genres  \\\n0            2002.0           драмы, зарубежные, детективы, мелодрамы   \n1            2014.0                  зарубежные, приключения, комедии   \n2            2011.0  криминал, зарубежные, триллеры, боевики, комедии   \n3            2015.0                      драмы, зарубежные, мелодрамы   \n4            1978.0                драмы, спорт, советские, мелодрамы   \n...             ...                                               ...   \n15958        2018.0                         драмы, триллеры, криминал   \n15959        2020.0                                    драмы, боевики   \n15960        2017.0                         драмы, триллеры, криминал   \n15961        2019.0                            драмы, спорт, криминал   \n15962        2019.0                                           комедии   \n\n                 countries  for_kids  age_rating   studios  \\\n0                  Испания       NaN        16.0       NaN   \n1                      США       NaN        16.0       NaN   \n2                   Канада       NaN        16.0       NaN   \n3           Великобритания       NaN        16.0       NaN   \n4                     СССР       NaN        12.0  Ленфильм   \n...                    ...       ...         ...       ...   \n15958  Финляндия, Германия       NaN        16.0       NaN   \n15959               Россия       0.0        18.0       NaN   \n15960               Россия       0.0        18.0       NaN   \n15961               Россия       0.0        18.0       NaN   \n15962               Россия       0.0        16.0       NaN   \n\n                                   directors  \\\n0                           Педро Альмодовар   \n1                             Скот Армстронг   \n2                           Адам П. Калтраро   \n3                                  Эндрю Хэй   \n4                           Виктор Садовский   \n...                                      ...   \n15958                          Ханну Салонен   \n15959                         Елена Хазанова   \n15960  Эшреф Рейбрук, Амир Камдин, Эрик Эгер   \n15961          Марк О’Коннор, Конор МакМахон   \n15962                         Михаил Миронов   \n\n                                                  actors  \\\n0      Адольфо Фернандес, Ана Фернандес, Дарио Гранди...   \n1      Адам Палли, Брайан Хаски, Дж.Б. Смув, Джейсон ...   \n2      Адриан Холмс, Даррен Шалави, Джерри Вассерман,...   \n3      Александра Риддлстон-Барретт, Джеральдин Джейм...   \n4      Александр Абдулов, Александр Демьяненко, Алекс...   \n...                                                  ...   \n15958  Иина Куустонен, Максимилиан Брюкнер, Пихла Вии...   \n15959  Виктория Исакова, Александр Кузьмин, Алексей М...   \n15960  Ола Рапас, Алиетт Офейм, Уильма Лиден, Шанти Р...   \n15961  Дэйн Уайт О’Хара, Томас Кэйн-Бирн, Джудит Родд...   \n15962                 Мкртыч Арзуманян, Виктория Рунцова   \n\n                                             description  \\\n0      Мелодрама легендарного Педро Альмодовара «Пого...   \n1      Уморительная современная комедия на популярную...   \n2      Профессиональный рестлер Стив Остин («Все или ...   \n3      Шарлотта Рэмплинг, Том Кортни, Джеральдин Джей...   \n4      Расчетливая чаровница из советского кинохита «...   \n...                                                  ...   \n15958  Во время погони за браконьерами по лесу, сотру...   \n15959  Оригинальный киносериал от создателей «Бывших»...   \n15960  Криминальная драма по мотивам романов о шведск...   \n15961  Семнадцатилетний Дэмиен мечтает вырваться за п...   \n15962  Добродушный Гоша не может выйти из дома, чтобы...   \n\n                                                keywords  \n0      Поговори, ней, 2002, Испания, друзья, любовь, ...  \n1      Голые, перцы, 2014, США, друзья, свадьбы, прео...  \n2      Тактическая, сила, 2011, Канада, бандиты, ганг...  \n3      45, лет, 2015, Великобритания, брак, жизнь, лю...  \n4      Все, решает, мгновение, 1978, СССР, сильные, ж...  \n...                                                  ...  \n15958  убийство, вирус, расследование преступления, н...  \n15959                              Надежда, 2020, Россия  \n15960                               Сговор, 2017, Россия  \n15961                        Среди, камней, 2019, Россия  \n15962                                 Гоша, 2019, Россия  \n\n[14019 rows x 14 columns]",
      "text/html": "<div>\n<style scoped>\n    .dataframe tbody tr th:only-of-type {\n        vertical-align: middle;\n    }\n\n    .dataframe tbody tr th {\n        vertical-align: top;\n    }\n\n    .dataframe thead th {\n        text-align: right;\n    }\n</style>\n<table border=\"1\" class=\"dataframe\">\n  <thead>\n    <tr style=\"text-align: right;\">\n      <th></th>\n      <th>item_id</th>\n      <th>content_type</th>\n      <th>title</th>\n      <th>title_orig</th>\n      <th>release_year</th>\n      <th>genres</th>\n      <th>countries</th>\n      <th>for_kids</th>\n      <th>age_rating</th>\n      <th>studios</th>\n      <th>directors</th>\n      <th>actors</th>\n      <th>description</th>\n      <th>keywords</th>\n    </tr>\n  </thead>\n  <tbody>\n    <tr>\n      <th>0</th>\n      <td>10711</td>\n      <td>film</td>\n      <td>Поговори с ней</td>\n      <td>Hable con ella</td>\n      <td>2002.0</td>\n      <td>драмы, зарубежные, детективы, мелодрамы</td>\n      <td>Испания</td>\n      <td>NaN</td>\n      <td>16.0</td>\n      <td>NaN</td>\n      <td>Педро Альмодовар</td>\n      <td>Адольфо Фернандес, Ана Фернандес, Дарио Гранди...</td>\n      <td>Мелодрама легендарного Педро Альмодовара «Пого...</td>\n      <td>Поговори, ней, 2002, Испания, друзья, любовь, ...</td>\n    </tr>\n    <tr>\n      <th>1</th>\n      <td>2508</td>\n      <td>film</td>\n      <td>Голые перцы</td>\n      <td>Search Party</td>\n      <td>2014.0</td>\n      <td>зарубежные, приключения, комедии</td>\n      <td>США</td>\n      <td>NaN</td>\n      <td>16.0</td>\n      <td>NaN</td>\n      <td>Скот Армстронг</td>\n      <td>Адам Палли, Брайан Хаски, Дж.Б. Смув, Джейсон ...</td>\n      <td>Уморительная современная комедия на популярную...</td>\n      <td>Голые, перцы, 2014, США, друзья, свадьбы, прео...</td>\n    </tr>\n    <tr>\n      <th>2</th>\n      <td>10716</td>\n      <td>film</td>\n      <td>Тактическая сила</td>\n      <td>Tactical Force</td>\n      <td>2011.0</td>\n      <td>криминал, зарубежные, триллеры, боевики, комедии</td>\n      <td>Канада</td>\n      <td>NaN</td>\n      <td>16.0</td>\n      <td>NaN</td>\n      <td>Адам П. Калтраро</td>\n      <td>Адриан Холмс, Даррен Шалави, Джерри Вассерман,...</td>\n      <td>Профессиональный рестлер Стив Остин («Все или ...</td>\n      <td>Тактическая, сила, 2011, Канада, бандиты, ганг...</td>\n    </tr>\n    <tr>\n      <th>3</th>\n      <td>7868</td>\n      <td>film</td>\n      <td>45 лет</td>\n      <td>45 Years</td>\n      <td>2015.0</td>\n      <td>драмы, зарубежные, мелодрамы</td>\n      <td>Великобритания</td>\n      <td>NaN</td>\n      <td>16.0</td>\n      <td>NaN</td>\n      <td>Эндрю Хэй</td>\n      <td>Александра Риддлстон-Барретт, Джеральдин Джейм...</td>\n      <td>Шарлотта Рэмплинг, Том Кортни, Джеральдин Джей...</td>\n      <td>45, лет, 2015, Великобритания, брак, жизнь, лю...</td>\n    </tr>\n    <tr>\n      <th>4</th>\n      <td>16268</td>\n      <td>film</td>\n      <td>Все решает мгновение</td>\n      <td>NaN</td>\n      <td>1978.0</td>\n      <td>драмы, спорт, советские, мелодрамы</td>\n      <td>СССР</td>\n      <td>NaN</td>\n      <td>12.0</td>\n      <td>Ленфильм</td>\n      <td>Виктор Садовский</td>\n      <td>Александр Абдулов, Александр Демьяненко, Алекс...</td>\n      <td>Расчетливая чаровница из советского кинохита «...</td>\n      <td>Все, решает, мгновение, 1978, СССР, сильные, ж...</td>\n    </tr>\n    <tr>\n      <th>...</th>\n      <td>...</td>\n      <td>...</td>\n      <td>...</td>\n      <td>...</td>\n      <td>...</td>\n      <td>...</td>\n      <td>...</td>\n      <td>...</td>\n      <td>...</td>\n      <td>...</td>\n      <td>...</td>\n      <td>...</td>\n      <td>...</td>\n      <td>...</td>\n    </tr>\n    <tr>\n      <th>15958</th>\n      <td>6443</td>\n      <td>series</td>\n      <td>Полярный круг</td>\n      <td>Arctic Circle</td>\n      <td>2018.0</td>\n      <td>драмы, триллеры, криминал</td>\n      <td>Финляндия, Германия</td>\n      <td>NaN</td>\n      <td>16.0</td>\n      <td>NaN</td>\n      <td>Ханну Салонен</td>\n      <td>Иина Куустонен, Максимилиан Брюкнер, Пихла Вии...</td>\n      <td>Во время погони за браконьерами по лесу, сотру...</td>\n      <td>убийство, вирус, расследование преступления, н...</td>\n    </tr>\n    <tr>\n      <th>15959</th>\n      <td>2367</td>\n      <td>series</td>\n      <td>Надежда</td>\n      <td>NaN</td>\n      <td>2020.0</td>\n      <td>драмы, боевики</td>\n      <td>Россия</td>\n      <td>0.0</td>\n      <td>18.0</td>\n      <td>NaN</td>\n      <td>Елена Хазанова</td>\n      <td>Виктория Исакова, Александр Кузьмин, Алексей М...</td>\n      <td>Оригинальный киносериал от создателей «Бывших»...</td>\n      <td>Надежда, 2020, Россия</td>\n    </tr>\n    <tr>\n      <th>15960</th>\n      <td>10632</td>\n      <td>series</td>\n      <td>Сговор</td>\n      <td>Hassel</td>\n      <td>2017.0</td>\n      <td>драмы, триллеры, криминал</td>\n      <td>Россия</td>\n      <td>0.0</td>\n      <td>18.0</td>\n      <td>NaN</td>\n      <td>Эшреф Рейбрук, Амир Камдин, Эрик Эгер</td>\n      <td>Ола Рапас, Алиетт Офейм, Уильма Лиден, Шанти Р...</td>\n      <td>Криминальная драма по мотивам романов о шведск...</td>\n      <td>Сговор, 2017, Россия</td>\n    </tr>\n    <tr>\n      <th>15961</th>\n      <td>4538</td>\n      <td>series</td>\n      <td>Среди камней</td>\n      <td>Darklands</td>\n      <td>2019.0</td>\n      <td>драмы, спорт, криминал</td>\n      <td>Россия</td>\n      <td>0.0</td>\n      <td>18.0</td>\n      <td>NaN</td>\n      <td>Марк О’Коннор, Конор МакМахон</td>\n      <td>Дэйн Уайт О’Хара, Томас Кэйн-Бирн, Джудит Родд...</td>\n      <td>Семнадцатилетний Дэмиен мечтает вырваться за п...</td>\n      <td>Среди, камней, 2019, Россия</td>\n    </tr>\n    <tr>\n      <th>15962</th>\n      <td>3206</td>\n      <td>series</td>\n      <td>Гоша</td>\n      <td>NaN</td>\n      <td>2019.0</td>\n      <td>комедии</td>\n      <td>Россия</td>\n      <td>0.0</td>\n      <td>16.0</td>\n      <td>NaN</td>\n      <td>Михаил Миронов</td>\n      <td>Мкртыч Арзуманян, Виктория Рунцова</td>\n      <td>Добродушный Гоша не может выйти из дома, чтобы...</td>\n      <td>Гоша, 2019, Россия</td>\n    </tr>\n  </tbody>\n</table>\n<p>14019 rows × 14 columns</p>\n</div>"
     },
     "execution_count": 44,
     "metadata": {},
     "output_type": "execute_result"
    }
   ],
   "source": [
    "items.loc[items[Columns.Item].isin(train[Columns.Item])]"
   ],
   "metadata": {
    "collapsed": false,
    "pycharm": {
     "name": "#%%\n"
    }
   }
  },
  {
   "cell_type": "code",
   "execution_count": 45,
   "metadata": {
    "pycharm": {
     "name": "#%%\n"
    }
   },
   "outputs": [],
   "source": [
    "items = items.loc[items[Columns.Item].isin(train[Columns.Item])].copy()"
   ]
  },
  {
   "cell_type": "code",
   "execution_count": 46,
   "metadata": {
    "pycharm": {
     "name": "#%%\n"
    }
   },
   "outputs": [
    {
     "data": {
      "text/plain": "       item_id content_type                 title      title_orig  \\\n0        10711         film        Поговори с ней  Hable con ella   \n1         2508         film           Голые перцы    Search Party   \n2        10716         film      Тактическая сила  Tactical Force   \n3         7868         film                45 лет        45 Years   \n4        16268         film  Все решает мгновение             NaN   \n...        ...          ...                   ...             ...   \n15958     6443       series         Полярный круг   Arctic Circle   \n15959     2367       series               Надежда             NaN   \n15960    10632       series                Сговор          Hassel   \n15961     4538       series          Среди камней      Darklands    \n15962     3206       series                  Гоша             NaN   \n\n       release_year                                            genres  \\\n0            2002.0           драмы, зарубежные, детективы, мелодрамы   \n1            2014.0                  зарубежные, приключения, комедии   \n2            2011.0  криминал, зарубежные, триллеры, боевики, комедии   \n3            2015.0                      драмы, зарубежные, мелодрамы   \n4            1978.0                драмы, спорт, советские, мелодрамы   \n...             ...                                               ...   \n15958        2018.0                         драмы, триллеры, криминал   \n15959        2020.0                                    драмы, боевики   \n15960        2017.0                         драмы, триллеры, криминал   \n15961        2019.0                            драмы, спорт, криминал   \n15962        2019.0                                           комедии   \n\n                 countries  for_kids  age_rating   studios  \\\n0                  Испания       NaN        16.0       NaN   \n1                      США       NaN        16.0       NaN   \n2                   Канада       NaN        16.0       NaN   \n3           Великобритания       NaN        16.0       NaN   \n4                     СССР       NaN        12.0  Ленфильм   \n...                    ...       ...         ...       ...   \n15958  Финляндия, Германия       NaN        16.0       NaN   \n15959               Россия       0.0        18.0       NaN   \n15960               Россия       0.0        18.0       NaN   \n15961               Россия       0.0        18.0       NaN   \n15962               Россия       0.0        16.0       NaN   \n\n                                   directors  \\\n0                           Педро Альмодовар   \n1                             Скот Армстронг   \n2                           Адам П. Калтраро   \n3                                  Эндрю Хэй   \n4                           Виктор Садовский   \n...                                      ...   \n15958                          Ханну Салонен   \n15959                         Елена Хазанова   \n15960  Эшреф Рейбрук, Амир Камдин, Эрик Эгер   \n15961          Марк О’Коннор, Конор МакМахон   \n15962                         Михаил Миронов   \n\n                                                  actors  \\\n0      Адольфо Фернандес, Ана Фернандес, Дарио Гранди...   \n1      Адам Палли, Брайан Хаски, Дж.Б. Смув, Джейсон ...   \n2      Адриан Холмс, Даррен Шалави, Джерри Вассерман,...   \n3      Александра Риддлстон-Барретт, Джеральдин Джейм...   \n4      Александр Абдулов, Александр Демьяненко, Алекс...   \n...                                                  ...   \n15958  Иина Куустонен, Максимилиан Брюкнер, Пихла Вии...   \n15959  Виктория Исакова, Александр Кузьмин, Алексей М...   \n15960  Ола Рапас, Алиетт Офейм, Уильма Лиден, Шанти Р...   \n15961  Дэйн Уайт О’Хара, Томас Кэйн-Бирн, Джудит Родд...   \n15962                 Мкртыч Арзуманян, Виктория Рунцова   \n\n                                             description  \\\n0      Мелодрама легендарного Педро Альмодовара «Пого...   \n1      Уморительная современная комедия на популярную...   \n2      Профессиональный рестлер Стив Остин («Все или ...   \n3      Шарлотта Рэмплинг, Том Кортни, Джеральдин Джей...   \n4      Расчетливая чаровница из советского кинохита «...   \n...                                                  ...   \n15958  Во время погони за браконьерами по лесу, сотру...   \n15959  Оригинальный киносериал от создателей «Бывших»...   \n15960  Криминальная драма по мотивам романов о шведск...   \n15961  Семнадцатилетний Дэмиен мечтает вырваться за п...   \n15962  Добродушный Гоша не может выйти из дома, чтобы...   \n\n                                                keywords  \n0      Поговори, ней, 2002, Испания, друзья, любовь, ...  \n1      Голые, перцы, 2014, США, друзья, свадьбы, прео...  \n2      Тактическая, сила, 2011, Канада, бандиты, ганг...  \n3      45, лет, 2015, Великобритания, брак, жизнь, лю...  \n4      Все, решает, мгновение, 1978, СССР, сильные, ж...  \n...                                                  ...  \n15958  убийство, вирус, расследование преступления, н...  \n15959                              Надежда, 2020, Россия  \n15960                               Сговор, 2017, Россия  \n15961                        Среди, камней, 2019, Россия  \n15962                                 Гоша, 2019, Россия  \n\n[14019 rows x 14 columns]",
      "text/html": "<div>\n<style scoped>\n    .dataframe tbody tr th:only-of-type {\n        vertical-align: middle;\n    }\n\n    .dataframe tbody tr th {\n        vertical-align: top;\n    }\n\n    .dataframe thead th {\n        text-align: right;\n    }\n</style>\n<table border=\"1\" class=\"dataframe\">\n  <thead>\n    <tr style=\"text-align: right;\">\n      <th></th>\n      <th>item_id</th>\n      <th>content_type</th>\n      <th>title</th>\n      <th>title_orig</th>\n      <th>release_year</th>\n      <th>genres</th>\n      <th>countries</th>\n      <th>for_kids</th>\n      <th>age_rating</th>\n      <th>studios</th>\n      <th>directors</th>\n      <th>actors</th>\n      <th>description</th>\n      <th>keywords</th>\n    </tr>\n  </thead>\n  <tbody>\n    <tr>\n      <th>0</th>\n      <td>10711</td>\n      <td>film</td>\n      <td>Поговори с ней</td>\n      <td>Hable con ella</td>\n      <td>2002.0</td>\n      <td>драмы, зарубежные, детективы, мелодрамы</td>\n      <td>Испания</td>\n      <td>NaN</td>\n      <td>16.0</td>\n      <td>NaN</td>\n      <td>Педро Альмодовар</td>\n      <td>Адольфо Фернандес, Ана Фернандес, Дарио Гранди...</td>\n      <td>Мелодрама легендарного Педро Альмодовара «Пого...</td>\n      <td>Поговори, ней, 2002, Испания, друзья, любовь, ...</td>\n    </tr>\n    <tr>\n      <th>1</th>\n      <td>2508</td>\n      <td>film</td>\n      <td>Голые перцы</td>\n      <td>Search Party</td>\n      <td>2014.0</td>\n      <td>зарубежные, приключения, комедии</td>\n      <td>США</td>\n      <td>NaN</td>\n      <td>16.0</td>\n      <td>NaN</td>\n      <td>Скот Армстронг</td>\n      <td>Адам Палли, Брайан Хаски, Дж.Б. Смув, Джейсон ...</td>\n      <td>Уморительная современная комедия на популярную...</td>\n      <td>Голые, перцы, 2014, США, друзья, свадьбы, прео...</td>\n    </tr>\n    <tr>\n      <th>2</th>\n      <td>10716</td>\n      <td>film</td>\n      <td>Тактическая сила</td>\n      <td>Tactical Force</td>\n      <td>2011.0</td>\n      <td>криминал, зарубежные, триллеры, боевики, комедии</td>\n      <td>Канада</td>\n      <td>NaN</td>\n      <td>16.0</td>\n      <td>NaN</td>\n      <td>Адам П. Калтраро</td>\n      <td>Адриан Холмс, Даррен Шалави, Джерри Вассерман,...</td>\n      <td>Профессиональный рестлер Стив Остин («Все или ...</td>\n      <td>Тактическая, сила, 2011, Канада, бандиты, ганг...</td>\n    </tr>\n    <tr>\n      <th>3</th>\n      <td>7868</td>\n      <td>film</td>\n      <td>45 лет</td>\n      <td>45 Years</td>\n      <td>2015.0</td>\n      <td>драмы, зарубежные, мелодрамы</td>\n      <td>Великобритания</td>\n      <td>NaN</td>\n      <td>16.0</td>\n      <td>NaN</td>\n      <td>Эндрю Хэй</td>\n      <td>Александра Риддлстон-Барретт, Джеральдин Джейм...</td>\n      <td>Шарлотта Рэмплинг, Том Кортни, Джеральдин Джей...</td>\n      <td>45, лет, 2015, Великобритания, брак, жизнь, лю...</td>\n    </tr>\n    <tr>\n      <th>4</th>\n      <td>16268</td>\n      <td>film</td>\n      <td>Все решает мгновение</td>\n      <td>NaN</td>\n      <td>1978.0</td>\n      <td>драмы, спорт, советские, мелодрамы</td>\n      <td>СССР</td>\n      <td>NaN</td>\n      <td>12.0</td>\n      <td>Ленфильм</td>\n      <td>Виктор Садовский</td>\n      <td>Александр Абдулов, Александр Демьяненко, Алекс...</td>\n      <td>Расчетливая чаровница из советского кинохита «...</td>\n      <td>Все, решает, мгновение, 1978, СССР, сильные, ж...</td>\n    </tr>\n    <tr>\n      <th>...</th>\n      <td>...</td>\n      <td>...</td>\n      <td>...</td>\n      <td>...</td>\n      <td>...</td>\n      <td>...</td>\n      <td>...</td>\n      <td>...</td>\n      <td>...</td>\n      <td>...</td>\n      <td>...</td>\n      <td>...</td>\n      <td>...</td>\n      <td>...</td>\n    </tr>\n    <tr>\n      <th>15958</th>\n      <td>6443</td>\n      <td>series</td>\n      <td>Полярный круг</td>\n      <td>Arctic Circle</td>\n      <td>2018.0</td>\n      <td>драмы, триллеры, криминал</td>\n      <td>Финляндия, Германия</td>\n      <td>NaN</td>\n      <td>16.0</td>\n      <td>NaN</td>\n      <td>Ханну Салонен</td>\n      <td>Иина Куустонен, Максимилиан Брюкнер, Пихла Вии...</td>\n      <td>Во время погони за браконьерами по лесу, сотру...</td>\n      <td>убийство, вирус, расследование преступления, н...</td>\n    </tr>\n    <tr>\n      <th>15959</th>\n      <td>2367</td>\n      <td>series</td>\n      <td>Надежда</td>\n      <td>NaN</td>\n      <td>2020.0</td>\n      <td>драмы, боевики</td>\n      <td>Россия</td>\n      <td>0.0</td>\n      <td>18.0</td>\n      <td>NaN</td>\n      <td>Елена Хазанова</td>\n      <td>Виктория Исакова, Александр Кузьмин, Алексей М...</td>\n      <td>Оригинальный киносериал от создателей «Бывших»...</td>\n      <td>Надежда, 2020, Россия</td>\n    </tr>\n    <tr>\n      <th>15960</th>\n      <td>10632</td>\n      <td>series</td>\n      <td>Сговор</td>\n      <td>Hassel</td>\n      <td>2017.0</td>\n      <td>драмы, триллеры, криминал</td>\n      <td>Россия</td>\n      <td>0.0</td>\n      <td>18.0</td>\n      <td>NaN</td>\n      <td>Эшреф Рейбрук, Амир Камдин, Эрик Эгер</td>\n      <td>Ола Рапас, Алиетт Офейм, Уильма Лиден, Шанти Р...</td>\n      <td>Криминальная драма по мотивам романов о шведск...</td>\n      <td>Сговор, 2017, Россия</td>\n    </tr>\n    <tr>\n      <th>15961</th>\n      <td>4538</td>\n      <td>series</td>\n      <td>Среди камней</td>\n      <td>Darklands</td>\n      <td>2019.0</td>\n      <td>драмы, спорт, криминал</td>\n      <td>Россия</td>\n      <td>0.0</td>\n      <td>18.0</td>\n      <td>NaN</td>\n      <td>Марк О’Коннор, Конор МакМахон</td>\n      <td>Дэйн Уайт О’Хара, Томас Кэйн-Бирн, Джудит Родд...</td>\n      <td>Семнадцатилетний Дэмиен мечтает вырваться за п...</td>\n      <td>Среди, камней, 2019, Россия</td>\n    </tr>\n    <tr>\n      <th>15962</th>\n      <td>3206</td>\n      <td>series</td>\n      <td>Гоша</td>\n      <td>NaN</td>\n      <td>2019.0</td>\n      <td>комедии</td>\n      <td>Россия</td>\n      <td>0.0</td>\n      <td>16.0</td>\n      <td>NaN</td>\n      <td>Михаил Миронов</td>\n      <td>Мкртыч Арзуманян, Виктория Рунцова</td>\n      <td>Добродушный Гоша не может выйти из дома, чтобы...</td>\n      <td>Гоша, 2019, Россия</td>\n    </tr>\n  </tbody>\n</table>\n<p>14019 rows × 14 columns</p>\n</div>"
     },
     "execution_count": 46,
     "metadata": {},
     "output_type": "execute_result"
    }
   ],
   "source": [
    "items#.head()"
   ]
  },
  {
   "cell_type": "code",
   "execution_count": 47,
   "metadata": {
    "pycharm": {
     "name": "#%%\n"
    }
   },
   "outputs": [
    {
     "data": {
      "text/plain": "item_id         14019\ncontent_type        2\ntitle           13454\ntitle_orig       9724\nrelease_year      104\ngenres           2559\ncountries         666\nfor_kids            2\nage_rating          6\nstudios            38\ndirectors        7414\nactors          11830\ndescription     13791\nkeywords        13583\ndtype: int64"
     },
     "execution_count": 47,
     "metadata": {},
     "output_type": "execute_result"
    }
   ],
   "source": [
    "items.nunique()"
   ]
  },
  {
   "cell_type": "markdown",
   "metadata": {
    "pycharm": {
     "name": "#%% md\n"
    }
   },
   "source": [
    "### Genre"
   ]
  },
  {
   "cell_type": "code",
   "execution_count": 48,
   "metadata": {
    "pycharm": {
     "name": "#%%\n"
    }
   },
   "outputs": [
    {
     "data": {
      "text/plain": "      id       value feature\n0  10711       драмы   genre\n0  10711  зарубежные   genre\n0  10711   детективы   genre\n0  10711   мелодрамы   genre\n1   2508  зарубежные   genre",
      "text/html": "<div>\n<style scoped>\n    .dataframe tbody tr th:only-of-type {\n        vertical-align: middle;\n    }\n\n    .dataframe tbody tr th {\n        vertical-align: top;\n    }\n\n    .dataframe thead th {\n        text-align: right;\n    }\n</style>\n<table border=\"1\" class=\"dataframe\">\n  <thead>\n    <tr style=\"text-align: right;\">\n      <th></th>\n      <th>id</th>\n      <th>value</th>\n      <th>feature</th>\n    </tr>\n  </thead>\n  <tbody>\n    <tr>\n      <th>0</th>\n      <td>10711</td>\n      <td>драмы</td>\n      <td>genre</td>\n    </tr>\n    <tr>\n      <th>0</th>\n      <td>10711</td>\n      <td>зарубежные</td>\n      <td>genre</td>\n    </tr>\n    <tr>\n      <th>0</th>\n      <td>10711</td>\n      <td>детективы</td>\n      <td>genre</td>\n    </tr>\n    <tr>\n      <th>0</th>\n      <td>10711</td>\n      <td>мелодрамы</td>\n      <td>genre</td>\n    </tr>\n    <tr>\n      <th>1</th>\n      <td>2508</td>\n      <td>зарубежные</td>\n      <td>genre</td>\n    </tr>\n  </tbody>\n</table>\n</div>"
     },
     "execution_count": 48,
     "metadata": {},
     "output_type": "execute_result"
    }
   ],
   "source": [
    "# Explode genres to flatten table\n",
    "items[\"genre\"] = items[\"genres\"].str.lower().str.replace(\", \", \",\", regex=False).str.split(\",\")\n",
    "genre_feature = items[[\"item_id\", \"genre\"]].explode(\"genre\")\n",
    "genre_feature.columns = [\"id\", \"value\"]\n",
    "genre_feature[\"feature\"] = \"genre\"\n",
    "genre_feature.head()"
   ]
  },
  {
   "cell_type": "markdown",
   "metadata": {
    "pycharm": {
     "name": "#%% md\n"
    }
   },
   "source": [
    "### Content"
   ]
  },
  {
   "cell_type": "code",
   "execution_count": 49,
   "metadata": {
    "pycharm": {
     "name": "#%%\n"
    }
   },
   "outputs": [],
   "source": [
    "content_feature = items.reindex(columns=[Columns.Item, \"content_type\"])\n",
    "content_feature.columns = [\"id\", \"value\"]\n",
    "content_feature[\"feature\"] = \"content_type\""
   ]
  },
  {
   "cell_type": "code",
   "execution_count": 50,
   "metadata": {
    "pycharm": {
     "name": "#%%\n"
    }
   },
   "outputs": [
    {
     "data": {
      "text/plain": "          id   value       feature\n0      10711    film  content_type\n1       2508    film  content_type\n2      10716    film  content_type\n3       7868    film  content_type\n4      16268    film  content_type\n...      ...     ...           ...\n15958   6443  series  content_type\n15959   2367  series  content_type\n15960  10632  series  content_type\n15961   4538  series  content_type\n15962   3206  series  content_type\n\n[14019 rows x 3 columns]",
      "text/html": "<div>\n<style scoped>\n    .dataframe tbody tr th:only-of-type {\n        vertical-align: middle;\n    }\n\n    .dataframe tbody tr th {\n        vertical-align: top;\n    }\n\n    .dataframe thead th {\n        text-align: right;\n    }\n</style>\n<table border=\"1\" class=\"dataframe\">\n  <thead>\n    <tr style=\"text-align: right;\">\n      <th></th>\n      <th>id</th>\n      <th>value</th>\n      <th>feature</th>\n    </tr>\n  </thead>\n  <tbody>\n    <tr>\n      <th>0</th>\n      <td>10711</td>\n      <td>film</td>\n      <td>content_type</td>\n    </tr>\n    <tr>\n      <th>1</th>\n      <td>2508</td>\n      <td>film</td>\n      <td>content_type</td>\n    </tr>\n    <tr>\n      <th>2</th>\n      <td>10716</td>\n      <td>film</td>\n      <td>content_type</td>\n    </tr>\n    <tr>\n      <th>3</th>\n      <td>7868</td>\n      <td>film</td>\n      <td>content_type</td>\n    </tr>\n    <tr>\n      <th>4</th>\n      <td>16268</td>\n      <td>film</td>\n      <td>content_type</td>\n    </tr>\n    <tr>\n      <th>...</th>\n      <td>...</td>\n      <td>...</td>\n      <td>...</td>\n    </tr>\n    <tr>\n      <th>15958</th>\n      <td>6443</td>\n      <td>series</td>\n      <td>content_type</td>\n    </tr>\n    <tr>\n      <th>15959</th>\n      <td>2367</td>\n      <td>series</td>\n      <td>content_type</td>\n    </tr>\n    <tr>\n      <th>15960</th>\n      <td>10632</td>\n      <td>series</td>\n      <td>content_type</td>\n    </tr>\n    <tr>\n      <th>15961</th>\n      <td>4538</td>\n      <td>series</td>\n      <td>content_type</td>\n    </tr>\n    <tr>\n      <th>15962</th>\n      <td>3206</td>\n      <td>series</td>\n      <td>content_type</td>\n    </tr>\n  </tbody>\n</table>\n<p>14019 rows × 3 columns</p>\n</div>"
     },
     "execution_count": 50,
     "metadata": {},
     "output_type": "execute_result"
    }
   ],
   "source": [
    "content_feature"
   ]
  },
  {
   "cell_type": "code",
   "execution_count": 51,
   "metadata": {
    "pycharm": {
     "name": "#%%\n"
    }
   },
   "outputs": [],
   "source": [
    "item_features = pd.concat((genre_feature, content_feature))"
   ]
  },
  {
   "cell_type": "code",
   "execution_count": 52,
   "metadata": {
    "pycharm": {
     "name": "#%%\n"
    }
   },
   "outputs": [
    {
     "data": {
      "text/plain": "          id       value       feature\n0      10711       драмы         genre\n0      10711  зарубежные         genre\n0      10711   детективы         genre\n0      10711   мелодрамы         genre\n1       2508  зарубежные         genre\n...      ...         ...           ...\n15958   6443      series  content_type\n15959   2367      series  content_type\n15960  10632      series  content_type\n15961   4538      series  content_type\n15962   3206      series  content_type\n\n[50224 rows x 3 columns]",
      "text/html": "<div>\n<style scoped>\n    .dataframe tbody tr th:only-of-type {\n        vertical-align: middle;\n    }\n\n    .dataframe tbody tr th {\n        vertical-align: top;\n    }\n\n    .dataframe thead th {\n        text-align: right;\n    }\n</style>\n<table border=\"1\" class=\"dataframe\">\n  <thead>\n    <tr style=\"text-align: right;\">\n      <th></th>\n      <th>id</th>\n      <th>value</th>\n      <th>feature</th>\n    </tr>\n  </thead>\n  <tbody>\n    <tr>\n      <th>0</th>\n      <td>10711</td>\n      <td>драмы</td>\n      <td>genre</td>\n    </tr>\n    <tr>\n      <th>0</th>\n      <td>10711</td>\n      <td>зарубежные</td>\n      <td>genre</td>\n    </tr>\n    <tr>\n      <th>0</th>\n      <td>10711</td>\n      <td>детективы</td>\n      <td>genre</td>\n    </tr>\n    <tr>\n      <th>0</th>\n      <td>10711</td>\n      <td>мелодрамы</td>\n      <td>genre</td>\n    </tr>\n    <tr>\n      <th>1</th>\n      <td>2508</td>\n      <td>зарубежные</td>\n      <td>genre</td>\n    </tr>\n    <tr>\n      <th>...</th>\n      <td>...</td>\n      <td>...</td>\n      <td>...</td>\n    </tr>\n    <tr>\n      <th>15958</th>\n      <td>6443</td>\n      <td>series</td>\n      <td>content_type</td>\n    </tr>\n    <tr>\n      <th>15959</th>\n      <td>2367</td>\n      <td>series</td>\n      <td>content_type</td>\n    </tr>\n    <tr>\n      <th>15960</th>\n      <td>10632</td>\n      <td>series</td>\n      <td>content_type</td>\n    </tr>\n    <tr>\n      <th>15961</th>\n      <td>4538</td>\n      <td>series</td>\n      <td>content_type</td>\n    </tr>\n    <tr>\n      <th>15962</th>\n      <td>3206</td>\n      <td>series</td>\n      <td>content_type</td>\n    </tr>\n  </tbody>\n</table>\n<p>50224 rows × 3 columns</p>\n</div>"
     },
     "execution_count": 52,
     "metadata": {},
     "output_type": "execute_result"
    }
   ],
   "source": [
    "item_features"
   ]
  },
  {
   "cell_type": "markdown",
   "metadata": {
    "pycharm": {
     "name": "#%% md\n"
    }
   },
   "source": [
    "# Metrics"
   ]
  },
  {
   "cell_type": "code",
   "execution_count": 53,
   "metadata": {
    "pycharm": {
     "name": "#%%\n"
    }
   },
   "outputs": [],
   "source": [
    "metrics = {\n",
    "    'MAP@10': MAP(k=10)\n",
    "}\n"
   ]
  },
  {
   "cell_type": "markdown",
   "metadata": {
    "pycharm": {
     "name": "#%% md\n"
    }
   },
   "source": [
    "# Models"
   ]
  },
  {
   "cell_type": "code",
   "execution_count": 62,
   "metadata": {
    "pycharm": {
     "name": "#%%\n"
    }
   },
   "outputs": [],
   "source": [
    "models = {}"
   ]
  },
  {
   "cell_type": "code",
   "execution_count": 63,
   "metadata": {
    "pycharm": {
     "name": "#%%\n"
    }
   },
   "outputs": [
    {
     "name": "stdout",
     "output_type": "stream",
     "text": [
      "CPU times: user 1.46 s, sys: 565 ms, total: 2.02 s\n",
      "Wall time: 2.33 s\n"
     ]
    }
   ],
   "source": [
    "%%time\n",
    "dataset = Dataset.construct(\n",
    "    interactions_df=train,\n",
    "    user_features_df=user_features,\n",
    "    cat_user_features=[\"sex\", \"age\", \"income\"],\n",
    "    item_features_df=item_features,\n",
    "    cat_item_features=[\"genre\", \"content_type\"],\n",
    ")"
   ]
  },
  {
   "cell_type": "code",
   "execution_count": 64,
   "metadata": {
    "pycharm": {
     "name": "#%%\n"
    }
   },
   "outputs": [],
   "source": [
    "TEST_USERS = test[Columns.User].unique()"
   ]
  },
  {
   "cell_type": "code",
   "execution_count": 65,
   "outputs": [
    {
     "data": {
      "text/plain": "(3832726, 6)"
     },
     "execution_count": 65,
     "metadata": {},
     "output_type": "execute_result"
    }
   ],
   "source": [
    "train.shape"
   ],
   "metadata": {
    "collapsed": false,
    "pycharm": {
     "name": "#%%\n"
    }
   }
  },
  {
   "cell_type": "markdown",
   "source": [
    "# Optimize hyperparameters with Optuna"
   ],
   "metadata": {
    "collapsed": false,
    "pycharm": {
     "name": "#%% md\n"
    }
   }
  },
  {
   "cell_type": "code",
   "execution_count": 66,
   "outputs": [],
   "source": [
    "def als_model(**kwargs):\n",
    "    return ImplicitALSWrapperModel(\n",
    "                    model=AlternatingLeastSquares(\n",
    "                        factors=kwargs[\"factors\"],\n",
    "                        random_state=RANDOM_STATE,\n",
    "                        num_threads=NUM_THREADS,\n",
    "                    ),\n",
    "                fit_features_together=kwargs[\"fit_features_together\"],\n",
    "            )\n",
    "\n",
    "def lightfm_model(**kwargs):\n",
    "    return LightFMWrapperModel(\n",
    "                model=LightFM(\n",
    "                    no_components=kwargs[\"no_components\"],\n",
    "                    loss=kwargs[\"loss\"],\n",
    "                    random_state=RANDOM_STATE,\n",
    "                    learning_rate=kwargs[\"learning_rate\"],\n",
    "                    user_alpha=kwargs[\"user_alpha\"],\n",
    "                    item_alpha=kwargs[\"item_alpha\"],\n",
    "                ),\n",
    "                epochs=kwargs[\"epochs\"],\n",
    "                num_threads=NUM_THREADS,\n",
    "            )"
   ],
   "metadata": {
    "collapsed": false,
    "pycharm": {
     "name": "#%%\n"
    }
   }
  },
  {
   "cell_type": "code",
   "execution_count": 67,
   "outputs": [],
   "source": [
    "K_RECOS = 10\n",
    "RANDOM_STATE = 42\n",
    "NUM_THREADS = 6\n",
    "\n",
    "params = {\n",
    "    'N_FACTORS_ALS': {'values': (30, 45), 'dtype': 'int'}, # ALS\n",
    "    'N_FACTORS_LFM': {'values': (10, 20), 'dtype': 'int'}, # Lightfm\n",
    "    'N_EPOCHS': {'values': (1, 3), 'dtype': 'int'}, # Lightfm\n",
    "    'USER_ALPHA': {'values': (0, 0), 'dtype': 'int'}, # Lightfm\n",
    "    'ITEM_ALPHA': {'values': (0, 0), 'dtype': 'int'}, # Lightfm\n",
    "    'LEARNING_RATE': {'values': (0.05, 0.05), 'dtype': 'float'}, # Lightfm\n",
    "    'lightfm_losses': {'values': ('logistic', 'bpr', 'warp'), 'dtype': 'categorical'}, # Lightfm\n",
    "    'is_fitting_features': {'values': (True, False), 'dtype': 'categorical'} # ALS\n",
    "}\n",
    "\n",
    "reco_algorithms = {\n",
    "    \"ALS\": {'model': als_model,\n",
    "            'params': dict(factors=params[\"N_FACTORS_ALS\"],\n",
    "                           fit_features_together=params[\"is_fitting_features\"],\n",
    "                           )\n",
    "            },\n",
    "    \"LightFM\": {'model': lightfm_model,\n",
    "                'params': dict(no_components=params[\"N_FACTORS_LFM\"],\n",
    "                               loss=params[\"lightfm_losses\"],\n",
    "                               learning_rate=params[\"LEARNING_RATE\"],\n",
    "                               user_alpha=params[\"USER_ALPHA\"],\n",
    "                               item_alpha=params[\"ITEM_ALPHA\"],\n",
    "                               epochs=params[\"N_EPOCHS\"],\n",
    "                               )\n",
    "                },\n",
    "}"
   ],
   "metadata": {
    "collapsed": false,
    "pycharm": {
     "name": "#%%\n"
    }
   }
  },
  {
   "cell_type": "code",
   "execution_count": 55,
   "outputs": [],
   "source": [
    "def objective(trial: optuna.Trial, reco_algorithm):\n",
    "    reco_model = reco_algorithms[reco_algorithm]['model']\n",
    "    suggested_params = dict()\n",
    "\n",
    "    for param_name, param in reco_algorithms[reco_algorithm]['params'].items():\n",
    "        trial_suggest = getattr(trial, f'suggest_{param[\"dtype\"]}')\n",
    "\n",
    "        if param[\"dtype\"] != 'categorical':\n",
    "            suggested_params[param_name] = trial_suggest(param_name, *param['values'])\n",
    "        else:\n",
    "            suggested_params[param_name] = trial_suggest(param_name, param['values'])\n",
    "\n",
    "    model = reco_model(**suggested_params)\n",
    "    model.fit(dataset)\n",
    "    recos = model.recommend(\n",
    "        users=TEST_USERS,\n",
    "        dataset=dataset,\n",
    "        k=K_RECOS,\n",
    "        filter_viewed=True,\n",
    "    )\n",
    "    map10 = calc_metrics(metrics, recos, test, train)[\"MAP@10\"]\n",
    "\n",
    "    return map10"
   ],
   "metadata": {
    "collapsed": false,
    "pycharm": {
     "name": "#%%\n"
    }
   }
  },
  {
   "cell_type": "markdown",
   "source": [
    "### Поиск гиперпараметров через Optuna по всем заданным алгоритмам"
   ],
   "metadata": {
    "collapsed": false,
    "pycharm": {
     "name": "#%% md\n"
    }
   }
  },
  {
   "cell_type": "code",
   "execution_count": null,
   "outputs": [
    {
     "name": "stderr",
     "output_type": "stream",
     "text": [
      "\u001B[32m[I 2022-12-02 20:43:07,737]\u001B[0m A new study created in memory with name: ALS\u001B[0m\n"
     ]
    },
    {
     "name": "stdout",
     "output_type": "stream",
     "text": [
      "Optimizing 1 algorithm with name: ALS\n"
     ]
    },
    {
     "name": "stderr",
     "output_type": "stream",
     "text": [
      "\u001B[32m[I 2022-12-02 20:57:32,945]\u001B[0m Trial 0 finished with value: 0.07403474221754681 and parameters: {'factors': 40, 'fit_features_together': True}. Best is trial 0 with value: 0.07403474221754681.\u001B[0m\n",
      "\u001B[32m[I 2022-12-02 21:11:11,794]\u001B[0m Trial 1 finished with value: 0.07383735414169257 and parameters: {'factors': 39, 'fit_features_together': True}. Best is trial 0 with value: 0.07403474221754681.\u001B[0m\n",
      "\u001B[32m[I 2022-12-02 21:24:50,398]\u001B[0m Trial 2 finished with value: 0.07403474221754681 and parameters: {'factors': 40, 'fit_features_together': True}. Best is trial 0 with value: 0.07403474221754681.\u001B[0m\n",
      "\u001B[32m[I 2022-12-02 21:33:23,518]\u001B[0m Trial 3 finished with value: 0.06405406658470873 and parameters: {'factors': 43, 'fit_features_together': False}. Best is trial 0 with value: 0.07403474221754681.\u001B[0m\n",
      "\u001B[32m[I 2022-12-02 21:40:56,953]\u001B[0m Trial 4 finished with value: 0.0639795826326622 and parameters: {'factors': 35, 'fit_features_together': False}. Best is trial 0 with value: 0.07403474221754681.\u001B[0m\n",
      "\u001B[32m[I 2022-12-02 21:50:41,377]\u001B[0m Trial 5 finished with value: 0.06428227344867771 and parameters: {'factors': 45, 'fit_features_together': False}. Best is trial 0 with value: 0.07403474221754681.\u001B[0m\n",
      "\u001B[32m[I 2022-12-02 21:58:54,995]\u001B[0m Trial 6 finished with value: 0.06370836433411284 and parameters: {'factors': 33, 'fit_features_together': False}. Best is trial 0 with value: 0.07403474221754681.\u001B[0m\n",
      "\u001B[32m[I 2022-12-02 22:12:47,861]\u001B[0m Trial 7 finished with value: 0.0745990416491788 and parameters: {'factors': 35, 'fit_features_together': True}. Best is trial 7 with value: 0.0745990416491788.\u001B[0m\n",
      "\u001B[32m[I 2022-12-02 22:21:01,924]\u001B[0m Trial 8 finished with value: 0.06345264041071899 and parameters: {'factors': 36, 'fit_features_together': False}. Best is trial 7 with value: 0.0745990416491788.\u001B[0m\n",
      "\u001B[32m[I 2022-12-02 22:28:06,651]\u001B[0m Trial 9 finished with value: 0.06308979234552642 and parameters: {'factors': 32, 'fit_features_together': False}. Best is trial 7 with value: 0.0745990416491788.\u001B[0m\n",
      "\u001B[32m[I 2022-12-02 22:28:07,656]\u001B[0m A new study created in memory with name: LightFM\u001B[0m\n"
     ]
    },
    {
     "name": "stdout",
     "output_type": "stream",
     "text": [
      "Optimizing 2 algorithm with name: LightFM\n"
     ]
    },
    {
     "name": "stderr",
     "output_type": "stream",
     "text": [
      "\u001B[32m[I 2022-12-03 00:09:35,625]\u001B[0m Trial 0 finished with value: 0.00010750743016374326 and parameters: {'no_components': 43, 'loss': 'bpr', 'learning_rate': 0.07029730927196941, 'user_alpha': 9, 'item_alpha': 5, 'epochs': 9}. Best is trial 0 with value: 0.00010750743016374326.\u001B[0m\n",
      "\u001B[32m[I 2022-12-03 00:20:54,723]\u001B[0m Trial 1 finished with value: 8.299695568532842e-05 and parameters: {'no_components': 41, 'loss': 'bpr', 'learning_rate': 0.018159878451032525, 'user_alpha': 10, 'item_alpha': 6, 'epochs': 3}. Best is trial 0 with value: 0.00010750743016374326.\u001B[0m\n",
      "\u001B[32m[I 2022-12-03 00:24:31,127]\u001B[0m Trial 2 finished with value: 9.49614019671568e-06 and parameters: {'no_components': 30, 'loss': 'bpr', 'learning_rate': 0.011817414092888478, 'user_alpha': 7, 'item_alpha': 9, 'epochs': 1}. Best is trial 0 with value: 0.00010750743016374326.\u001B[0m\n"
     ]
    }
   ],
   "source": [
    "optuna_studies = dict()\n",
    "\n",
    "for i, (algo_name, algorithm) in enumerate(reco_algorithms.items(), 1):\n",
    "    print(f'Optimizing {i} algorithm with name: {algo_name}')\n",
    "\n",
    "    study = optuna.create_study(direction='maximize', study_name=algo_name)\n",
    "    optuna_studies[algo_name] = study\n",
    "\n",
    "    study.optimize(partial(objective, reco_algorithm=algo_name), n_trials=10)\n",
    "    time.sleep(1)\n",
    "\n",
    "    with open(f'data/optuna_studies_{algo_name}_{i}.pkl', 'wb') as fw:\n",
    "        pickle.dump(optuna_studies, fw, pickle.HIGHEST_PROTOCOL)"
   ],
   "metadata": {
    "collapsed": false,
    "pycharm": {
     "name": "#%%\n"
    }
   }
  },
  {
   "cell_type": "markdown",
   "source": [
    "### Поиск гиперпараметров через Optuna отдельно на LightFM."
   ],
   "metadata": {
    "collapsed": false,
    "pycharm": {
     "name": "#%% md\n"
    }
   }
  },
  {
   "cell_type": "code",
   "execution_count": 56,
   "outputs": [
    {
     "name": "stderr",
     "output_type": "stream",
     "text": [
      "\u001B[32m[I 2022-12-11 12:11:54,086]\u001B[0m A new study created in memory with name: LightFM\u001B[0m\n"
     ]
    },
    {
     "name": "stdout",
     "output_type": "stream",
     "text": [
      "Optimizing 2 algorithm with name: LightFM\n"
     ]
    },
    {
     "name": "stderr",
     "output_type": "stream",
     "text": [
      "\u001B[32m[I 2022-12-11 12:13:58,410]\u001B[0m Trial 0 finished with value: 0.07659459039178797 and parameters: {'no_components': 15, 'loss': 'warp', 'learning_rate': 0.05, 'user_alpha': 0, 'item_alpha': 0, 'epochs': 1}. Best is trial 0 with value: 0.07659459039178797.\u001B[0m\n",
      "\u001B[32m[I 2022-12-11 12:17:01,857]\u001B[0m Trial 1 finished with value: 0.02389820045819892 and parameters: {'no_components': 20, 'loss': 'bpr', 'learning_rate': 0.05, 'user_alpha': 0, 'item_alpha': 0, 'epochs': 1}. Best is trial 0 with value: 0.07659459039178797.\u001B[0m\n",
      "\u001B[32m[I 2022-12-11 12:19:37,305]\u001B[0m Trial 2 finished with value: 0.0749771541782762 and parameters: {'no_components': 11, 'loss': 'warp', 'learning_rate': 0.05, 'user_alpha': 0, 'item_alpha': 0, 'epochs': 1}. Best is trial 0 with value: 0.07659459039178797.\u001B[0m\n",
      "\u001B[32m[I 2022-12-11 12:22:11,738]\u001B[0m Trial 3 finished with value: 0.016182758291402838 and parameters: {'no_components': 10, 'loss': 'bpr', 'learning_rate': 0.05, 'user_alpha': 0, 'item_alpha': 0, 'epochs': 3}. Best is trial 0 with value: 0.07659459039178797.\u001B[0m\n",
      "\u001B[32m[I 2022-12-11 12:24:34,354]\u001B[0m Trial 4 finished with value: 0.07336176630131137 and parameters: {'no_components': 13, 'loss': 'warp', 'learning_rate': 0.05, 'user_alpha': 0, 'item_alpha': 0, 'epochs': 3}. Best is trial 0 with value: 0.07659459039178797.\u001B[0m\n",
      "\u001B[32m[I 2022-12-11 12:27:25,076]\u001B[0m Trial 5 finished with value: 0.0002709103460821772 and parameters: {'no_components': 18, 'loss': 'logistic', 'learning_rate': 0.05, 'user_alpha': 0, 'item_alpha': 0, 'epochs': 2}. Best is trial 0 with value: 0.07659459039178797.\u001B[0m\n",
      "\u001B[32m[I 2022-12-11 12:30:21,446]\u001B[0m Trial 6 finished with value: 0.014843508950612419 and parameters: {'no_components': 13, 'loss': 'bpr', 'learning_rate': 0.05, 'user_alpha': 0, 'item_alpha': 0, 'epochs': 3}. Best is trial 0 with value: 0.07659459039178797.\u001B[0m\n",
      "\u001B[33m[W 2022-12-11 12:30:43,458]\u001B[0m Trial 7 failed because of the following error: KeyboardInterrupt()\u001B[0m\n",
      "Traceback (most recent call last):\n",
      "  File \"/home/kpavel/anaconda3/envs/recsys/lib/python3.8/site-packages/optuna/study/_optimize.py\", line 196, in _run_trial\n",
      "    value_or_values = func(trial)\n",
      "  File \"/tmp/ipykernel_33463/1529527787.py\", line 16, in objective\n",
      "    recos = model.recommend(\n",
      "  File \"/home/kpavel/anaconda3/envs/recsys/lib/python3.8/site-packages/rectools/models/base.py\", line 132, in recommend\n",
      "    reco_user_ids, reco_item_ids, reco_scores = self._recommend_u2i(\n",
      "  File \"/home/kpavel/anaconda3/envs/recsys/lib/python3.8/site-packages/rectools/models/vector.py\", line 142, in _recommend_u2i\n",
      "    reco_ids, reco_scores = recommend_from_scores(\n",
      "  File \"/home/kpavel/anaconda3/envs/recsys/lib/python3.8/site-packages/rectools/models/utils.py\", line 101, in recommend_from_scores\n",
      "    unsorted_reco_positions = scores.argpartition(-n_reco)[-n_reco:]\n",
      "KeyboardInterrupt\n"
     ]
    },
    {
     "ename": "KeyboardInterrupt",
     "evalue": "",
     "output_type": "error",
     "traceback": [
      "\u001B[0;31m---------------------------------------------------------------------------\u001B[0m",
      "\u001B[0;31mKeyboardInterrupt\u001B[0m                         Traceback (most recent call last)",
      "Cell \u001B[0;32mIn [56], line 11\u001B[0m\n\u001B[1;32m      8\u001B[0m study \u001B[38;5;241m=\u001B[39m optuna\u001B[38;5;241m.\u001B[39mcreate_study(direction\u001B[38;5;241m=\u001B[39m\u001B[38;5;124m'\u001B[39m\u001B[38;5;124mmaximize\u001B[39m\u001B[38;5;124m'\u001B[39m, study_name\u001B[38;5;241m=\u001B[39malgo_name)\n\u001B[1;32m      9\u001B[0m optuna_studies[algo_name] \u001B[38;5;241m=\u001B[39m study\n\u001B[0;32m---> 11\u001B[0m \u001B[43mstudy\u001B[49m\u001B[38;5;241;43m.\u001B[39;49m\u001B[43moptimize\u001B[49m\u001B[43m(\u001B[49m\u001B[43mpartial\u001B[49m\u001B[43m(\u001B[49m\u001B[43mobjective\u001B[49m\u001B[43m,\u001B[49m\u001B[43m \u001B[49m\u001B[43mreco_algorithm\u001B[49m\u001B[38;5;241;43m=\u001B[39;49m\u001B[43malgo_name\u001B[49m\u001B[43m)\u001B[49m\u001B[43m,\u001B[49m\u001B[43m \u001B[49m\u001B[43mn_trials\u001B[49m\u001B[38;5;241;43m=\u001B[39;49m\u001B[38;5;241;43m10\u001B[39;49m\u001B[43m)\u001B[49m\n\u001B[1;32m     12\u001B[0m time\u001B[38;5;241m.\u001B[39msleep(\u001B[38;5;241m1\u001B[39m)\n\u001B[1;32m     14\u001B[0m \u001B[38;5;28;01mwith\u001B[39;00m \u001B[38;5;28mopen\u001B[39m(\u001B[38;5;124mf\u001B[39m\u001B[38;5;124m'\u001B[39m\u001B[38;5;124mdata/optuna_studies_\u001B[39m\u001B[38;5;132;01m{\u001B[39;00malgo_name\u001B[38;5;132;01m}\u001B[39;00m\u001B[38;5;124m_\u001B[39m\u001B[38;5;132;01m{\u001B[39;00mi\u001B[38;5;132;01m}\u001B[39;00m\u001B[38;5;124m.pkl\u001B[39m\u001B[38;5;124m'\u001B[39m, \u001B[38;5;124m'\u001B[39m\u001B[38;5;124mwb\u001B[39m\u001B[38;5;124m'\u001B[39m) \u001B[38;5;28;01mas\u001B[39;00m fw:\n",
      "File \u001B[0;32m~/anaconda3/envs/recsys/lib/python3.8/site-packages/optuna/study/study.py:419\u001B[0m, in \u001B[0;36mStudy.optimize\u001B[0;34m(self, func, n_trials, timeout, n_jobs, catch, callbacks, gc_after_trial, show_progress_bar)\u001B[0m\n\u001B[1;32m    315\u001B[0m \u001B[38;5;28;01mdef\u001B[39;00m \u001B[38;5;21moptimize\u001B[39m(\n\u001B[1;32m    316\u001B[0m     \u001B[38;5;28mself\u001B[39m,\n\u001B[1;32m    317\u001B[0m     func: ObjectiveFuncType,\n\u001B[0;32m   (...)\u001B[0m\n\u001B[1;32m    324\u001B[0m     show_progress_bar: \u001B[38;5;28mbool\u001B[39m \u001B[38;5;241m=\u001B[39m \u001B[38;5;28;01mFalse\u001B[39;00m,\n\u001B[1;32m    325\u001B[0m ) \u001B[38;5;241m-\u001B[39m\u001B[38;5;241m>\u001B[39m \u001B[38;5;28;01mNone\u001B[39;00m:\n\u001B[1;32m    326\u001B[0m     \u001B[38;5;124;03m\"\"\"Optimize an objective function.\u001B[39;00m\n\u001B[1;32m    327\u001B[0m \n\u001B[1;32m    328\u001B[0m \u001B[38;5;124;03m    Optimization is done by choosing a suitable set of hyperparameter values from a given\u001B[39;00m\n\u001B[0;32m   (...)\u001B[0m\n\u001B[1;32m    416\u001B[0m \u001B[38;5;124;03m            If nested invocation of this method occurs.\u001B[39;00m\n\u001B[1;32m    417\u001B[0m \u001B[38;5;124;03m    \"\"\"\u001B[39;00m\n\u001B[0;32m--> 419\u001B[0m     \u001B[43m_optimize\u001B[49m\u001B[43m(\u001B[49m\n\u001B[1;32m    420\u001B[0m \u001B[43m        \u001B[49m\u001B[43mstudy\u001B[49m\u001B[38;5;241;43m=\u001B[39;49m\u001B[38;5;28;43mself\u001B[39;49m\u001B[43m,\u001B[49m\n\u001B[1;32m    421\u001B[0m \u001B[43m        \u001B[49m\u001B[43mfunc\u001B[49m\u001B[38;5;241;43m=\u001B[39;49m\u001B[43mfunc\u001B[49m\u001B[43m,\u001B[49m\n\u001B[1;32m    422\u001B[0m \u001B[43m        \u001B[49m\u001B[43mn_trials\u001B[49m\u001B[38;5;241;43m=\u001B[39;49m\u001B[43mn_trials\u001B[49m\u001B[43m,\u001B[49m\n\u001B[1;32m    423\u001B[0m \u001B[43m        \u001B[49m\u001B[43mtimeout\u001B[49m\u001B[38;5;241;43m=\u001B[39;49m\u001B[43mtimeout\u001B[49m\u001B[43m,\u001B[49m\n\u001B[1;32m    424\u001B[0m \u001B[43m        \u001B[49m\u001B[43mn_jobs\u001B[49m\u001B[38;5;241;43m=\u001B[39;49m\u001B[43mn_jobs\u001B[49m\u001B[43m,\u001B[49m\n\u001B[1;32m    425\u001B[0m \u001B[43m        \u001B[49m\u001B[43mcatch\u001B[49m\u001B[38;5;241;43m=\u001B[39;49m\u001B[43mcatch\u001B[49m\u001B[43m,\u001B[49m\n\u001B[1;32m    426\u001B[0m \u001B[43m        \u001B[49m\u001B[43mcallbacks\u001B[49m\u001B[38;5;241;43m=\u001B[39;49m\u001B[43mcallbacks\u001B[49m\u001B[43m,\u001B[49m\n\u001B[1;32m    427\u001B[0m \u001B[43m        \u001B[49m\u001B[43mgc_after_trial\u001B[49m\u001B[38;5;241;43m=\u001B[39;49m\u001B[43mgc_after_trial\u001B[49m\u001B[43m,\u001B[49m\n\u001B[1;32m    428\u001B[0m \u001B[43m        \u001B[49m\u001B[43mshow_progress_bar\u001B[49m\u001B[38;5;241;43m=\u001B[39;49m\u001B[43mshow_progress_bar\u001B[49m\u001B[43m,\u001B[49m\n\u001B[1;32m    429\u001B[0m \u001B[43m    \u001B[49m\u001B[43m)\u001B[49m\n",
      "File \u001B[0;32m~/anaconda3/envs/recsys/lib/python3.8/site-packages/optuna/study/_optimize.py:66\u001B[0m, in \u001B[0;36m_optimize\u001B[0;34m(study, func, n_trials, timeout, n_jobs, catch, callbacks, gc_after_trial, show_progress_bar)\u001B[0m\n\u001B[1;32m     64\u001B[0m \u001B[38;5;28;01mtry\u001B[39;00m:\n\u001B[1;32m     65\u001B[0m     \u001B[38;5;28;01mif\u001B[39;00m n_jobs \u001B[38;5;241m==\u001B[39m \u001B[38;5;241m1\u001B[39m:\n\u001B[0;32m---> 66\u001B[0m         \u001B[43m_optimize_sequential\u001B[49m\u001B[43m(\u001B[49m\n\u001B[1;32m     67\u001B[0m \u001B[43m            \u001B[49m\u001B[43mstudy\u001B[49m\u001B[43m,\u001B[49m\n\u001B[1;32m     68\u001B[0m \u001B[43m            \u001B[49m\u001B[43mfunc\u001B[49m\u001B[43m,\u001B[49m\n\u001B[1;32m     69\u001B[0m \u001B[43m            \u001B[49m\u001B[43mn_trials\u001B[49m\u001B[43m,\u001B[49m\n\u001B[1;32m     70\u001B[0m \u001B[43m            \u001B[49m\u001B[43mtimeout\u001B[49m\u001B[43m,\u001B[49m\n\u001B[1;32m     71\u001B[0m \u001B[43m            \u001B[49m\u001B[43mcatch\u001B[49m\u001B[43m,\u001B[49m\n\u001B[1;32m     72\u001B[0m \u001B[43m            \u001B[49m\u001B[43mcallbacks\u001B[49m\u001B[43m,\u001B[49m\n\u001B[1;32m     73\u001B[0m \u001B[43m            \u001B[49m\u001B[43mgc_after_trial\u001B[49m\u001B[43m,\u001B[49m\n\u001B[1;32m     74\u001B[0m \u001B[43m            \u001B[49m\u001B[43mreseed_sampler_rng\u001B[49m\u001B[38;5;241;43m=\u001B[39;49m\u001B[38;5;28;43;01mFalse\u001B[39;49;00m\u001B[43m,\u001B[49m\n\u001B[1;32m     75\u001B[0m \u001B[43m            \u001B[49m\u001B[43mtime_start\u001B[49m\u001B[38;5;241;43m=\u001B[39;49m\u001B[38;5;28;43;01mNone\u001B[39;49;00m\u001B[43m,\u001B[49m\n\u001B[1;32m     76\u001B[0m \u001B[43m            \u001B[49m\u001B[43mprogress_bar\u001B[49m\u001B[38;5;241;43m=\u001B[39;49m\u001B[43mprogress_bar\u001B[49m\u001B[43m,\u001B[49m\n\u001B[1;32m     77\u001B[0m \u001B[43m        \u001B[49m\u001B[43m)\u001B[49m\n\u001B[1;32m     78\u001B[0m     \u001B[38;5;28;01melse\u001B[39;00m:\n\u001B[1;32m     79\u001B[0m         \u001B[38;5;28;01mif\u001B[39;00m n_jobs \u001B[38;5;241m==\u001B[39m \u001B[38;5;241m-\u001B[39m\u001B[38;5;241m1\u001B[39m:\n",
      "File \u001B[0;32m~/anaconda3/envs/recsys/lib/python3.8/site-packages/optuna/study/_optimize.py:160\u001B[0m, in \u001B[0;36m_optimize_sequential\u001B[0;34m(study, func, n_trials, timeout, catch, callbacks, gc_after_trial, reseed_sampler_rng, time_start, progress_bar)\u001B[0m\n\u001B[1;32m    157\u001B[0m         \u001B[38;5;28;01mbreak\u001B[39;00m\n\u001B[1;32m    159\u001B[0m \u001B[38;5;28;01mtry\u001B[39;00m:\n\u001B[0;32m--> 160\u001B[0m     frozen_trial \u001B[38;5;241m=\u001B[39m \u001B[43m_run_trial\u001B[49m\u001B[43m(\u001B[49m\u001B[43mstudy\u001B[49m\u001B[43m,\u001B[49m\u001B[43m \u001B[49m\u001B[43mfunc\u001B[49m\u001B[43m,\u001B[49m\u001B[43m \u001B[49m\u001B[43mcatch\u001B[49m\u001B[43m)\u001B[49m\n\u001B[1;32m    161\u001B[0m \u001B[38;5;28;01mfinally\u001B[39;00m:\n\u001B[1;32m    162\u001B[0m     \u001B[38;5;66;03m# The following line mitigates memory problems that can be occurred in some\u001B[39;00m\n\u001B[1;32m    163\u001B[0m     \u001B[38;5;66;03m# environments (e.g., services that use computing containers such as CircleCI).\u001B[39;00m\n\u001B[1;32m    164\u001B[0m     \u001B[38;5;66;03m# Please refer to the following PR for further details:\u001B[39;00m\n\u001B[1;32m    165\u001B[0m     \u001B[38;5;66;03m# https://github.com/optuna/optuna/pull/325.\u001B[39;00m\n\u001B[1;32m    166\u001B[0m     \u001B[38;5;28;01mif\u001B[39;00m gc_after_trial:\n",
      "File \u001B[0;32m~/anaconda3/envs/recsys/lib/python3.8/site-packages/optuna/study/_optimize.py:234\u001B[0m, in \u001B[0;36m_run_trial\u001B[0;34m(study, func, catch)\u001B[0m\n\u001B[1;32m    227\u001B[0m         \u001B[38;5;28;01massert\u001B[39;00m \u001B[38;5;28;01mFalse\u001B[39;00m, \u001B[38;5;124m\"\u001B[39m\u001B[38;5;124mShould not reach.\u001B[39m\u001B[38;5;124m\"\u001B[39m\n\u001B[1;32m    229\u001B[0m \u001B[38;5;28;01mif\u001B[39;00m (\n\u001B[1;32m    230\u001B[0m     frozen_trial\u001B[38;5;241m.\u001B[39mstate \u001B[38;5;241m==\u001B[39m TrialState\u001B[38;5;241m.\u001B[39mFAIL\n\u001B[1;32m    231\u001B[0m     \u001B[38;5;129;01mand\u001B[39;00m func_err \u001B[38;5;129;01mis\u001B[39;00m \u001B[38;5;129;01mnot\u001B[39;00m \u001B[38;5;28;01mNone\u001B[39;00m\n\u001B[1;32m    232\u001B[0m     \u001B[38;5;129;01mand\u001B[39;00m \u001B[38;5;129;01mnot\u001B[39;00m \u001B[38;5;28misinstance\u001B[39m(func_err, catch)\n\u001B[1;32m    233\u001B[0m ):\n\u001B[0;32m--> 234\u001B[0m     \u001B[38;5;28;01mraise\u001B[39;00m func_err\n\u001B[1;32m    235\u001B[0m \u001B[38;5;28;01mreturn\u001B[39;00m frozen_trial\n",
      "File \u001B[0;32m~/anaconda3/envs/recsys/lib/python3.8/site-packages/optuna/study/_optimize.py:196\u001B[0m, in \u001B[0;36m_run_trial\u001B[0;34m(study, func, catch)\u001B[0m\n\u001B[1;32m    194\u001B[0m \u001B[38;5;28;01mwith\u001B[39;00m get_heartbeat_thread(trial\u001B[38;5;241m.\u001B[39m_trial_id, study\u001B[38;5;241m.\u001B[39m_storage):\n\u001B[1;32m    195\u001B[0m     \u001B[38;5;28;01mtry\u001B[39;00m:\n\u001B[0;32m--> 196\u001B[0m         value_or_values \u001B[38;5;241m=\u001B[39m \u001B[43mfunc\u001B[49m\u001B[43m(\u001B[49m\u001B[43mtrial\u001B[49m\u001B[43m)\u001B[49m\n\u001B[1;32m    197\u001B[0m     \u001B[38;5;28;01mexcept\u001B[39;00m exceptions\u001B[38;5;241m.\u001B[39mTrialPruned \u001B[38;5;28;01mas\u001B[39;00m e:\n\u001B[1;32m    198\u001B[0m         \u001B[38;5;66;03m# TODO(mamu): Handle multi-objective cases.\u001B[39;00m\n\u001B[1;32m    199\u001B[0m         state \u001B[38;5;241m=\u001B[39m TrialState\u001B[38;5;241m.\u001B[39mPRUNED\n",
      "Cell \u001B[0;32mIn [55], line 16\u001B[0m, in \u001B[0;36mobjective\u001B[0;34m(trial, reco_algorithm)\u001B[0m\n\u001B[1;32m     14\u001B[0m model \u001B[38;5;241m=\u001B[39m reco_model(\u001B[38;5;241m*\u001B[39m\u001B[38;5;241m*\u001B[39msuggested_params)\n\u001B[1;32m     15\u001B[0m model\u001B[38;5;241m.\u001B[39mfit(dataset)\n\u001B[0;32m---> 16\u001B[0m recos \u001B[38;5;241m=\u001B[39m \u001B[43mmodel\u001B[49m\u001B[38;5;241;43m.\u001B[39;49m\u001B[43mrecommend\u001B[49m\u001B[43m(\u001B[49m\n\u001B[1;32m     17\u001B[0m \u001B[43m    \u001B[49m\u001B[43musers\u001B[49m\u001B[38;5;241;43m=\u001B[39;49m\u001B[43mTEST_USERS\u001B[49m\u001B[43m,\u001B[49m\n\u001B[1;32m     18\u001B[0m \u001B[43m    \u001B[49m\u001B[43mdataset\u001B[49m\u001B[38;5;241;43m=\u001B[39;49m\u001B[43mdataset\u001B[49m\u001B[43m,\u001B[49m\n\u001B[1;32m     19\u001B[0m \u001B[43m    \u001B[49m\u001B[43mk\u001B[49m\u001B[38;5;241;43m=\u001B[39;49m\u001B[43mK_RECOS\u001B[49m\u001B[43m,\u001B[49m\n\u001B[1;32m     20\u001B[0m \u001B[43m    \u001B[49m\u001B[43mfilter_viewed\u001B[49m\u001B[38;5;241;43m=\u001B[39;49m\u001B[38;5;28;43;01mTrue\u001B[39;49;00m\u001B[43m,\u001B[49m\n\u001B[1;32m     21\u001B[0m \u001B[43m\u001B[49m\u001B[43m)\u001B[49m\n\u001B[1;32m     22\u001B[0m map10 \u001B[38;5;241m=\u001B[39m calc_metrics(metrics, recos, test, train)[\u001B[38;5;124m\"\u001B[39m\u001B[38;5;124mMAP@10\u001B[39m\u001B[38;5;124m\"\u001B[39m]\n\u001B[1;32m     24\u001B[0m \u001B[38;5;28;01mreturn\u001B[39;00m map10\n",
      "File \u001B[0;32m~/anaconda3/envs/recsys/lib/python3.8/site-packages/rectools/models/base.py:132\u001B[0m, in \u001B[0;36mModelBase.recommend\u001B[0;34m(self, users, dataset, k, filter_viewed, items_to_recommend, add_rank_col)\u001B[0m\n\u001B[1;32m    129\u001B[0m \u001B[38;5;28;01melse\u001B[39;00m:\n\u001B[1;32m    130\u001B[0m     sorted_item_ids_to_recommend \u001B[38;5;241m=\u001B[39m \u001B[38;5;28;01mNone\u001B[39;00m\n\u001B[0;32m--> 132\u001B[0m reco_user_ids, reco_item_ids, reco_scores \u001B[38;5;241m=\u001B[39m \u001B[38;5;28;43mself\u001B[39;49m\u001B[38;5;241;43m.\u001B[39;49m\u001B[43m_recommend_u2i\u001B[49m\u001B[43m(\u001B[49m\n\u001B[1;32m    133\u001B[0m \u001B[43m    \u001B[49m\u001B[43muser_ids\u001B[49m\u001B[43m,\u001B[49m\n\u001B[1;32m    134\u001B[0m \u001B[43m    \u001B[49m\u001B[43mdataset\u001B[49m\u001B[43m,\u001B[49m\n\u001B[1;32m    135\u001B[0m \u001B[43m    \u001B[49m\u001B[43mk\u001B[49m\u001B[43m,\u001B[49m\n\u001B[1;32m    136\u001B[0m \u001B[43m    \u001B[49m\u001B[43mfilter_viewed\u001B[49m\u001B[43m,\u001B[49m\n\u001B[1;32m    137\u001B[0m \u001B[43m    \u001B[49m\u001B[43msorted_item_ids_to_recommend\u001B[49m\u001B[43m,\u001B[49m\n\u001B[1;32m    138\u001B[0m \u001B[43m\u001B[49m\u001B[43m)\u001B[49m\n\u001B[1;32m    140\u001B[0m reco \u001B[38;5;241m=\u001B[39m pd\u001B[38;5;241m.\u001B[39mDataFrame(\n\u001B[1;32m    141\u001B[0m     {\n\u001B[1;32m    142\u001B[0m         Columns\u001B[38;5;241m.\u001B[39mUser: dataset\u001B[38;5;241m.\u001B[39muser_id_map\u001B[38;5;241m.\u001B[39mconvert_to_external(reco_user_ids),\n\u001B[0;32m   (...)\u001B[0m\n\u001B[1;32m    145\u001B[0m     }\n\u001B[1;32m    146\u001B[0m )\n\u001B[1;32m    148\u001B[0m \u001B[38;5;28;01mif\u001B[39;00m add_rank_col:\n",
      "File \u001B[0;32m~/anaconda3/envs/recsys/lib/python3.8/site-packages/rectools/models/vector.py:142\u001B[0m, in \u001B[0;36mVectorModel._recommend_u2i\u001B[0;34m(self, user_ids, dataset, k, filter_viewed, sorted_item_ids_to_recommend)\u001B[0m\n\u001B[1;32m    140\u001B[0m \u001B[38;5;28;01mfor\u001B[39;00m target_id \u001B[38;5;129;01min\u001B[39;00m tqdm(user_ids, disable\u001B[38;5;241m=\u001B[39m\u001B[38;5;28mself\u001B[39m\u001B[38;5;241m.\u001B[39mverbose \u001B[38;5;241m==\u001B[39m \u001B[38;5;241m0\u001B[39m):\n\u001B[1;32m    141\u001B[0m     scores \u001B[38;5;241m=\u001B[39m scores_calculator\u001B[38;5;241m.\u001B[39mcalc(target_id)\n\u001B[0;32m--> 142\u001B[0m     reco_ids, reco_scores \u001B[38;5;241m=\u001B[39m \u001B[43mrecommend_from_scores\u001B[49m\u001B[43m(\u001B[49m\n\u001B[1;32m    143\u001B[0m \u001B[43m        \u001B[49m\u001B[43mscores\u001B[49m\u001B[38;5;241;43m=\u001B[39;49m\u001B[43mscores\u001B[49m\u001B[43m,\u001B[49m\n\u001B[1;32m    144\u001B[0m \u001B[43m        \u001B[49m\u001B[43mk\u001B[49m\u001B[38;5;241;43m=\u001B[39;49m\u001B[43mk\u001B[49m\u001B[43m,\u001B[49m\n\u001B[1;32m    145\u001B[0m \u001B[43m        \u001B[49m\u001B[43msorted_blacklist\u001B[49m\u001B[38;5;241;43m=\u001B[39;49m\u001B[43mget_viewed_item_ids\u001B[49m\u001B[43m(\u001B[49m\u001B[43muser_items\u001B[49m\u001B[43m,\u001B[49m\u001B[43m \u001B[49m\u001B[43mtarget_id\u001B[49m\u001B[43m)\u001B[49m\u001B[43m \u001B[49m\u001B[38;5;28;43;01mif\u001B[39;49;00m\u001B[43m \u001B[49m\u001B[43mfilter_viewed\u001B[49m\u001B[43m \u001B[49m\u001B[38;5;28;43;01melse\u001B[39;49;00m\u001B[43m \u001B[49m\u001B[38;5;28;43;01mNone\u001B[39;49;00m\u001B[43m,\u001B[49m\n\u001B[1;32m    146\u001B[0m \u001B[43m        \u001B[49m\u001B[43msorted_whitelist\u001B[49m\u001B[38;5;241;43m=\u001B[39;49m\u001B[43msorted_item_ids_to_recommend\u001B[49m\u001B[43m,\u001B[49m\n\u001B[1;32m    147\u001B[0m \u001B[43m        \u001B[49m\u001B[43mascending\u001B[49m\u001B[38;5;241;43m=\u001B[39;49m\u001B[38;5;28;43mself\u001B[39;49m\u001B[38;5;241;43m.\u001B[39;49m\u001B[43mu2i_dist\u001B[49m\u001B[43m \u001B[49m\u001B[38;5;241;43m==\u001B[39;49m\u001B[43m \u001B[49m\u001B[43mDistance\u001B[49m\u001B[38;5;241;43m.\u001B[39;49m\u001B[43mEUCLIDEAN\u001B[49m\u001B[43m,\u001B[49m\n\u001B[1;32m    148\u001B[0m \u001B[43m    \u001B[49m\u001B[43m)\u001B[49m\n\u001B[1;32m    149\u001B[0m     all_target_ids\u001B[38;5;241m.\u001B[39mextend([target_id] \u001B[38;5;241m*\u001B[39m \u001B[38;5;28mlen\u001B[39m(reco_ids))\n\u001B[1;32m    150\u001B[0m     all_reco_ids\u001B[38;5;241m.\u001B[39mappend(reco_ids)\n",
      "File \u001B[0;32m~/anaconda3/envs/recsys/lib/python3.8/site-packages/rectools/models/utils.py:101\u001B[0m, in \u001B[0;36mrecommend_from_scores\u001B[0;34m(scores, k, sorted_blacklist, sorted_whitelist, ascending)\u001B[0m\n\u001B[1;32m     98\u001B[0m     scores \u001B[38;5;241m=\u001B[39m \u001B[38;5;241m-\u001B[39mscores\n\u001B[1;32m    100\u001B[0m n_reco \u001B[38;5;241m=\u001B[39m \u001B[38;5;28mmin\u001B[39m(k, scores\u001B[38;5;241m.\u001B[39msize)\n\u001B[0;32m--> 101\u001B[0m unsorted_reco_positions \u001B[38;5;241m=\u001B[39m \u001B[43mscores\u001B[49m\u001B[38;5;241;43m.\u001B[39;49m\u001B[43margpartition\u001B[49m\u001B[43m(\u001B[49m\u001B[38;5;241;43m-\u001B[39;49m\u001B[43mn_reco\u001B[49m\u001B[43m)\u001B[49m[\u001B[38;5;241m-\u001B[39mn_reco:]\n\u001B[1;32m    102\u001B[0m unsorted_reco_scores \u001B[38;5;241m=\u001B[39m scores[unsorted_reco_positions]\n\u001B[1;32m    103\u001B[0m sorted_reco_positions \u001B[38;5;241m=\u001B[39m unsorted_reco_positions[unsorted_reco_scores\u001B[38;5;241m.\u001B[39margsort()[::\u001B[38;5;241m-\u001B[39m\u001B[38;5;241m1\u001B[39m]]\n",
      "\u001B[0;31mKeyboardInterrupt\u001B[0m: "
     ]
    }
   ],
   "source": [
    "optuna_studies = dict()\n",
    "\n",
    "for i, (algo_name, algorithm) in enumerate(reco_algorithms.items(), 1):\n",
    "    if algo_name != 'LightFM':\n",
    "        continue\n",
    "    print(f'Optimizing {i} algorithm with name: {algo_name}')\n",
    "\n",
    "    study = optuna.create_study(direction='maximize', study_name=algo_name)\n",
    "    optuna_studies[algo_name] = study\n",
    "\n",
    "    study.optimize(partial(objective, reco_algorithm=algo_name), n_trials=10)\n",
    "    time.sleep(1)\n",
    "\n",
    "    with open(f'data/optuna_studies_{algo_name}_{i}.pkl', 'wb') as fw:\n",
    "        pickle.dump(optuna_studies, fw, pickle.HIGHEST_PROTOCOL)"
   ],
   "metadata": {
    "collapsed": false,
    "pycharm": {
     "name": "#%%\n"
    }
   }
  },
  {
   "cell_type": "markdown",
   "source": [
    "### Как можем видеть, logistic loss и bpr плохо показывают себя на MAP@10, а warp уже побил baseline."
   ],
   "metadata": {
    "collapsed": false,
    "pycharm": {
     "name": "#%% md\n"
    }
   }
  },
  {
   "cell_type": "code",
   "execution_count": 67,
   "outputs": [
    {
     "data": {
      "text/plain": "{'no_components': 15,\n 'loss': 'warp',\n 'learning_rate': 0.05,\n 'user_alpha': 0,\n 'item_alpha': 0,\n 'epochs': 1}"
     },
     "execution_count": 67,
     "metadata": {},
     "output_type": "execute_result"
    }
   ],
   "source": [
    "best_params = optuna_studies['LightFM'].best_params\n",
    "best_params"
   ],
   "metadata": {
    "collapsed": false,
    "pycharm": {
     "name": "#%%\n"
    }
   }
  },
  {
   "cell_type": "code",
   "execution_count": 68,
   "outputs": [],
   "source": [
    "best_params = {'no_components': 15,\n",
    " 'loss': 'warp',\n",
    " 'learning_rate': 0.05,\n",
    " 'user_alpha': 0,\n",
    " 'item_alpha': 0,\n",
    " 'epochs': 1}"
   ],
   "metadata": {
    "collapsed": false,
    "pycharm": {
     "name": "#%%\n"
    }
   }
  },
  {
   "cell_type": "code",
   "execution_count": 69,
   "outputs": [
    {
     "data": {
      "text/plain": "<rectools.models.lightfm.LightFMWrapperModel at 0x7f21234cf8e0>"
     },
     "execution_count": 69,
     "metadata": {},
     "output_type": "execute_result"
    }
   ],
   "source": [
    "reco_model = reco_algorithms['LightFM']['model']\n",
    "model = reco_model(**best_params)\n",
    "model.fit(dataset)"
   ],
   "metadata": {
    "collapsed": false,
    "pycharm": {
     "name": "#%%\n"
    }
   }
  },
  {
   "cell_type": "code",
   "execution_count": 91,
   "outputs": [],
   "source": [
    "model_export_path = 'best_model.pkl'\n",
    "if not os.path.exists(model_export_path):\n",
    "    with open(model_export_path, 'wb') as fw:\n",
    "        pickle.dump(model, fw, pickle.HIGHEST_PROTOCOL)"
   ],
   "metadata": {
    "collapsed": false,
    "pycharm": {
     "name": "#%%\n"
    }
   }
  },
  {
   "cell_type": "markdown",
   "metadata": {
    "pycharm": {
     "name": "#%% md\n"
    }
   },
   "source": [
    "# ONLINE Approximate Nearest Neighbors"
   ]
  },
  {
   "cell_type": "markdown",
   "source": [
    "## Qdrant\n",
    "### С помощью векторного поискового движка qdrant, делаем online инференс с временем ответа ~4ms"
   ],
   "metadata": {
    "collapsed": false,
    "pycharm": {
     "name": "#%% md\n"
    }
   }
  },
  {
   "cell_type": "code",
   "execution_count": 70,
   "outputs": [],
   "source": [
    "from qdrant_client import QdrantClient\n",
    "from qdrant_client.http.models import Distance, VectorParams\n",
    "import numpy as np"
   ],
   "metadata": {
    "collapsed": false,
    "pycharm": {
     "name": "#%%\n"
    }
   }
  },
  {
   "cell_type": "code",
   "execution_count": null,
   "outputs": [],
   "source": [
    "!docker pull qdrant/qdrant"
   ],
   "metadata": {
    "collapsed": false,
    "pycharm": {
     "name": "#%%\n"
    }
   }
  },
  {
   "cell_type": "code",
   "execution_count": 27,
   "outputs": [
    {
     "name": "stdout",
     "output_type": "stream",
     "text": [
      "8f282832e4e88da0022ea30ad69f2faf9c59ac7771a3ba928480a18385c0c8fb\r\n"
     ]
    }
   ],
   "source": [
    "!docker run --name qdrant -d -p 6333:6333 --net=bridge qdrant/qdrant"
   ],
   "metadata": {
    "collapsed": false,
    "pycharm": {
     "name": "#%%\n"
    }
   }
  },
  {
   "cell_type": "code",
   "execution_count": 71,
   "outputs": [],
   "source": [
    "client = QdrantClient(host=\"localhost\", port=6333)"
   ],
   "metadata": {
    "collapsed": false,
    "pycharm": {
     "name": "#%%\n"
    }
   }
  },
  {
   "cell_type": "code",
   "execution_count": 72,
   "outputs": [],
   "source": [
    "COLLECTION_NAME = 'reco'"
   ],
   "metadata": {
    "collapsed": false,
    "pycharm": {
     "name": "#%%\n"
    }
   }
  },
  {
   "cell_type": "code",
   "execution_count": 63,
   "outputs": [],
   "source": [
    "with open(f'best_model.pkl', 'rb') as fr:\n",
    "    model = pickle.load(fr)"
   ],
   "metadata": {
    "collapsed": false,
    "pycharm": {
     "name": "#%%\n"
    }
   }
  },
  {
   "cell_type": "code",
   "execution_count": 65,
   "outputs": [],
   "source": [
    "def create_collection_and_upload(vectors, payload, ids, col_name, vec_shape, bs, distance: Distance):\n",
    "    client.recreate_collection(collection_name=col_name,\n",
    "                               vectors_config=VectorParams(size=vec_shape, distance=distance),\n",
    "                               on_disk_payload=False)\n",
    "    client.upload_collection(\n",
    "        collection_name=col_name,\n",
    "        vectors=vectors,\n",
    "        payload=payload,\n",
    "        ids=ids,\n",
    "        batch_size=bs,\n",
    "        parallel=6\n",
    "    )\n",
    "    col = client.get_collection(col_name)\n",
    "    return col\n"
   ],
   "metadata": {
    "collapsed": false,
    "pycharm": {
     "name": "#%%\n"
    }
   }
  },
  {
   "cell_type": "markdown",
   "source": [
    "### Аугментируем датасеты юзеров и айтемов"
   ],
   "metadata": {
    "collapsed": false,
    "pycharm": {
     "name": "#%% md\n"
    }
   }
  },
  {
   "cell_type": "code",
   "execution_count": 73,
   "outputs": [],
   "source": [
    "user_embeddings, item_embeddings = model.get_vectors(dataset)"
   ],
   "metadata": {
    "collapsed": false,
    "pycharm": {
     "name": "#%%\n"
    }
   }
  },
  {
   "cell_type": "code",
   "execution_count": 74,
   "outputs": [
    {
     "data": {
      "text/plain": "((756565, 17), (14019, 17))"
     },
     "execution_count": 74,
     "metadata": {},
     "output_type": "execute_result"
    }
   ],
   "source": [
    "user_embeddings.shape, item_embeddings.shape"
   ],
   "metadata": {
    "collapsed": false,
    "pycharm": {
     "name": "#%%\n"
    }
   }
  },
  {
   "cell_type": "code",
   "execution_count": 75,
   "outputs": [],
   "source": [
    "def augment_inner_product(factors):\n",
    "    normed_factors = np.linalg.norm(factors, axis=1)\n",
    "    max_norm = normed_factors.max()\n",
    "\n",
    "    extra_dim = np.sqrt(max_norm ** 2 - normed_factors ** 2).reshape(-1, 1)\n",
    "    augmented_factors = np.append(factors, extra_dim, axis=1)\n",
    "    return max_norm, augmented_factors"
   ],
   "metadata": {
    "collapsed": false,
    "pycharm": {
     "name": "#%%\n"
    }
   }
  },
  {
   "cell_type": "code",
   "execution_count": 76,
   "outputs": [
    {
     "name": "stdout",
     "output_type": "stream",
     "text": [
      "augmented_item_embeddings shape (14019, 18)\n",
      "augmented_user_embeddings shape (756565, 18)\n"
     ]
    }
   ],
   "source": [
    "max_norm, augmented_item_embeddings = augment_inner_product(item_embeddings)\n",
    "print(f'augmented_item_embeddings shape {augmented_item_embeddings.shape}')\n",
    "extra_zero = np.zeros((user_embeddings.shape[0], 1))\n",
    "augmented_user_embeddings = np.append(user_embeddings, extra_zero, axis=1)\n",
    "print(f'augmented_user_embeddings shape {augmented_user_embeddings.shape}')"
   ],
   "metadata": {
    "collapsed": false,
    "pycharm": {
     "name": "#%%\n"
    }
   }
  },
  {
   "cell_type": "code",
   "execution_count": 77,
   "outputs": [],
   "source": [
    "user_dataset = pd.DataFrame(augmented_user_embeddings, index=dataset.user_id_map.external_ids)\n",
    "item_dataset = pd.DataFrame(augmented_item_embeddings, index=dataset.item_id_map.external_ids)"
   ],
   "metadata": {
    "collapsed": false,
    "pycharm": {
     "name": "#%%\n"
    }
   }
  },
  {
   "cell_type": "code",
   "execution_count": 101,
   "outputs": [],
   "source": [
    "with open('data/user_dataset.pkl', 'wb') as fw:\n",
    "    pickle.dump(user_dataset, fw, pickle.HIGHEST_PROTOCOL)\n",
    "with open('data/item_dataset.pkl', 'wb') as fw:\n",
    "    pickle.dump(item_dataset, fw, pickle.HIGHEST_PROTOCOL)"
   ],
   "metadata": {
    "collapsed": false,
    "pycharm": {
     "name": "#%%\n"
    }
   }
  },
  {
   "cell_type": "markdown",
   "source": [
    "### Создаем коллекцию и грузим вектора айтемов"
   ],
   "metadata": {
    "collapsed": false,
    "pycharm": {
     "name": "#%% md\n"
    }
   }
  },
  {
   "cell_type": "code",
   "execution_count": 71,
   "outputs": [
    {
     "data": {
      "text/plain": "CollectionInfo(status=<CollectionStatus.GREEN: 'green'>, optimizer_status=<OptimizersStatusOneOf.OK: 'ok'>, vectors_count=14019, indexed_vectors_count=0, points_count=14019, segments_count=8, config=CollectionConfig(params=CollectionParams(vectors=VectorParams(size=18, distance=<Distance.DOT: 'Dot'>), shard_number=1, replication_factor=1, write_consistency_factor=1, on_disk_payload=False), hnsw_config=HnswConfig(m=16, ef_construct=100, full_scan_threshold=10000, max_indexing_threads=0, on_disk=None), optimizer_config=OptimizersConfig(deleted_threshold=0.2, vacuum_min_vector_number=1000, default_segment_number=0, max_segment_size=None, memmap_threshold=None, indexing_threshold=20000, flush_interval_sec=5, max_optimization_threads=1), wal_config=WalConfig(wal_capacity_mb=32, wal_segments_ahead=0)), payload_schema={})"
     },
     "execution_count": 71,
     "metadata": {},
     "output_type": "execute_result"
    }
   ],
   "source": [
    "create_collection_and_upload(item_dataset.to_numpy(),\n",
    "                             None,\n",
    "                             ids=item_dataset.index.tolist(),\n",
    "                             col_name=COLLECTION_NAME,\n",
    "                             vec_shape=item_dataset.shape[1],\n",
    "                             bs=6,\n",
    "                             distance=Distance.DOT\n",
    "                             )"
   ],
   "metadata": {
    "collapsed": false,
    "pycharm": {
     "name": "#%%\n"
    }
   }
  },
  {
   "cell_type": "code",
   "execution_count": 72,
   "outputs": [
    {
     "data": {
      "text/plain": "CollectionInfo(status=<CollectionStatus.GREEN: 'green'>, optimizer_status=<OptimizersStatusOneOf.OK: 'ok'>, vectors_count=14019, indexed_vectors_count=0, points_count=14019, segments_count=8, config=CollectionConfig(params=CollectionParams(vectors=VectorParams(size=18, distance=<Distance.DOT: 'Dot'>), shard_number=1, replication_factor=1, write_consistency_factor=1, on_disk_payload=False), hnsw_config=HnswConfig(m=16, ef_construct=100, full_scan_threshold=10000, max_indexing_threads=0, on_disk=None), optimizer_config=OptimizersConfig(deleted_threshold=0.2, vacuum_min_vector_number=1000, default_segment_number=0, max_segment_size=None, memmap_threshold=None, indexing_threshold=20000, flush_interval_sec=5, max_optimization_threads=1), wal_config=WalConfig(wal_capacity_mb=32, wal_segments_ahead=0)), payload_schema={})"
     },
     "execution_count": 72,
     "metadata": {},
     "output_type": "execute_result"
    }
   ],
   "source": [
    "client.get_collection('reco')"
   ],
   "metadata": {
    "collapsed": false,
    "pycharm": {
     "name": "#%%\n"
    }
   }
  },
  {
   "cell_type": "markdown",
   "source": [
    "### Пример ONLINE ANN поиска по векторам юзеров"
   ],
   "metadata": {
    "collapsed": false,
    "pycharm": {
     "name": "#%% md\n"
    }
   }
  },
  {
   "cell_type": "code",
   "execution_count": 87,
   "outputs": [
    {
     "name": "stdout",
     "output_type": "stream",
     "text": [
      "3.98 ms ± 598 µs per loop (mean ± std. dev. of 7 runs, 100 loops each)\n"
     ]
    }
   ],
   "source": [
    "%%timeit\n",
    "query_vector = user_dataset.loc[11542].to_numpy()\n",
    "hits = client.search(\n",
    "    collection_name=COLLECTION_NAME,\n",
    "    query_vector=query_vector,\n",
    "    query_filter=None,  # Don't use any filters for now, search across all indexed points\n",
    "    append_payload=True,  # Also return a stored payload for found points\n",
    "    with_vectors=False,\n",
    "    limit=10  # Return N closest points\n",
    ")\n",
    "hits = [h.id for h in hits]\n",
    "hits"
   ],
   "metadata": {
    "collapsed": false,
    "pycharm": {
     "name": "#%%\n"
    }
   }
  },
  {
   "cell_type": "markdown",
   "source": [
    "## Avatar reco"
   ],
   "metadata": {
    "collapsed": false,
    "pycharm": {
     "name": "#%% md\n"
    }
   }
  },
  {
   "cell_type": "code",
   "execution_count": 78,
   "outputs": [
    {
     "data": {
      "text/plain": "[1097558, 1097559, 1097560]"
     },
     "execution_count": 78,
     "metadata": {},
     "output_type": "execute_result"
    }
   ],
   "source": [
    "avatars"
   ],
   "metadata": {
    "collapsed": false,
    "pycharm": {
     "name": "#%%\n"
    }
   }
  },
  {
   "cell_type": "code",
   "execution_count": 79,
   "outputs": [],
   "source": [
    "avatars_reco_item_ids = {}\n",
    "for avatar in avatars:\n",
    "    query_vector = user_dataset.loc[avatar].to_numpy()\n",
    "    hits = client.search(\n",
    "        collection_name=COLLECTION_NAME,\n",
    "        query_vector=query_vector,\n",
    "        query_filter=None,  # Don't use any filters for now, search across all indexed points\n",
    "        append_payload=True,  # Also return a stored payload for found points\n",
    "        with_vectors=False,\n",
    "        limit=10  # Return N closest points\n",
    "    )\n",
    "    hits = [h.id for h in hits]\n",
    "    avatars_reco_item_ids[avatar] = hits\n"
   ],
   "metadata": {
    "collapsed": false,
    "pycharm": {
     "name": "#%%\n"
    }
   }
  },
  {
   "cell_type": "code",
   "execution_count": 80,
   "outputs": [
    {
     "data": {
      "text/plain": "{1097558: [14431, 14317, 14359, 10440, 10077, 15297, 2220, 14741, 13865, 9381],\n 1097559: [14431, 10077, 14359, 16484, 237, 9381, 14317, 14429, 2657, 2220],\n 1097560: [15297, 4151, 3734, 7571, 4880, 3182, 10440, 13915, 5658, 1105]}"
     },
     "execution_count": 80,
     "metadata": {},
     "output_type": "execute_result"
    }
   ],
   "source": [
    "avatars_reco_item_ids"
   ],
   "metadata": {
    "collapsed": false,
    "pycharm": {
     "name": "#%%\n"
    }
   }
  },
  {
   "cell_type": "markdown",
   "source": [
    "#### Рекомендации для 1 аватара - Horror Person"
   ],
   "metadata": {
    "collapsed": false,
    "pycharm": {
     "name": "#%% md\n"
    }
   }
  },
  {
   "cell_type": "code",
   "execution_count": 86,
   "outputs": [
    {
     "data": {
      "text/plain": "       item_id content_type                      title  \\\n767      15297       series            Клиника счастья   \n1882     10440       series                Хрустальный   \n5956     10077         film          Что скрывает вода   \n6411     14317         film                      Веном   \n6501     13865         film                   Девятаев   \n8939      9381         film           Кто не спрятался   \n9477     14741         film         Цвет из иных миров   \n9938     14431         film  Приворот. Чёрное венчание   \n10334    14359         film           Проклятие ведьмы   \n12483     2220         film              С днём смерти   \n\n                        title_orig  release_year  \\\n767              Klinika schast'ya        2021.0   \n1882                  Khrustal'nyy        2021.0   \n5956               What Lies Below        2020.0   \n6411                         Venom        2018.0   \n6501          V2. Escape from Hell        2021.0   \n8939                    The Rental        2020.0   \n9477           Colour out of space        2020.0   \n9938   Privorot. Chernoe venchanie        2021.0   \n10334                    Reckoning        2020.0   \n12483                  Death of Me        2020.0   \n\n                                                 genres  \\\n767                                    драмы, мелодрамы   \n1882                                триллеры, детективы   \n5956                                    ужасы, триллеры   \n6411   популярное, фантастика, триллеры, боевики, ужасы   \n6501                        драмы, военные, приключения   \n8939                  драмы, ужасы, триллеры, детективы   \n9477                                  фантастика, ужасы   \n9938                         ужасы, триллеры, мелодрамы   \n10334                                             ужасы   \n12483                                  ужасы, детективы   \n\n                       countries  for_kids  age_rating studios  \\\n767                       Россия       NaN        18.0     NaN   \n1882                      Россия       NaN        18.0     NaN   \n5956                         США       NaN        16.0     NaN   \n6411                         США       NaN        16.0     NaN   \n6501                      Россия       NaN        12.0     NaN   \n8939                         США       NaN        18.0     NaN   \n9477   США, Малайзия, Португалия       NaN        16.0     NaN   \n9938                      Россия       NaN        16.0     NaN   \n10334             Великобритания       NaN        16.0     NaN   \n12483               США, Таиланд       NaN        18.0     NaN   \n\n                   directors  \\\n767       Александр Кириенко   \n1882          Душан Глигоров   \n5956     Брэйден Р. Дуэммлер   \n6411           Рубен Фляйшер   \n6501       Тимур Бекмамбетов   \n8939             Дэйв Франко   \n9477           Ричард Стэнли   \n9938   Святослав Подгаевский   \n10334            Нил Маршалл   \n12483    Даррен Линн Боусман   \n\n                                                  actors  \\\n767    Дарья Мороз, Анатолий Белый, Данил Акутин, Мар...   \n1882   Антон Васильев, Николай Шрайбер, Екатерина Оль...   \n5956   Эма Хорват, Мена Сувари, Трей Такер, Хаскири В...   \n6411   Том Харди, Вуди Харрельсон, Уэйд Уильямс, Мише...   \n6501   Павел Прилучный, Павел Чинарёв, Тимофей Трибун...   \n8939   Дэн Стивенс, Элисон Бри, Тоби Хасс, Шейла Ванд...   \n9477   Николас Кейдж, Джоэли Ричардсон, Мадлен Артур,...   \n9938   Яна Енжаева, Константин Белошапка, Илья Ермоло...   \n10334  Шарлотта Кирк, Джо Андерсон, Стивен Вэддингтон...   \n12483  Мэгги Кью, Люк Хемсворт, Александра Эссоу, Кэт...   \n\n                                             description  \\\n767    Успешный сексолог Алена уверена, что нашла фор...   \n1882   Сергей Смирнов — один из лучших «охотников на ...   \n5956   Мать-одиночка встречает 16-летнюю дочь Либи по...   \n6411   Что если в один прекрасный день в тебя вселяет...   \n6501   Военно-исторический блокбастер от режиссёров Т...   \n8939   Вы снимали жилье через интернет? Смотрели крас...   \n9477   Экранизация рассказа Говарда Лавкрафта про упа...   \n9938   Отечественный хоррор с любовной историей. Женю...   \n10334  XVII век. Времена чумы и безжалостной охоты на...   \n12483  Супруги-американцы Кристин и Нейл проводят отп...   \n\n                                                keywords  \\\n767    Клиника счастья, Клиника, Счастье, Клиника сча...   \n1882   хруст, хрусталь, хруста, хрус, полицейский, пе...   \n5956   озеро, беременность, отношения между пожилой ж...   \n6411   Сан-Франциско, Калифорния, космический корабль...   \n6501   Девятаев, Девятаева, Девят, Девя, Девята, Девя...   \n8939   камера, экстази, брат, дом, сталкер, убийство,...   \n9477   мутация, хижина, сарай, отшельник, ферма, мете...   \n9938          , 2021, россия, приворот, чёрное, венчание   \n10334  ведьма, средневековье, преследование, охота на...   \n12483  самоубийство, фотограф, паспорт, галлюцинация,...   \n\n                                                   genre  \n767                                   [драмы, мелодрамы]  \n1882                               [триллеры, детективы]  \n5956                                   [ужасы, триллеры]  \n6411   [популярное, фантастика, триллеры, боевики, уж...  \n6501                       [драмы, военные, приключения]  \n8939                 [драмы, ужасы, триллеры, детективы]  \n9477                                 [фантастика, ужасы]  \n9938                        [ужасы, триллеры, мелодрамы]  \n10334                                            [ужасы]  \n12483                                 [ужасы, детективы]  ",
      "text/html": "<div>\n<style scoped>\n    .dataframe tbody tr th:only-of-type {\n        vertical-align: middle;\n    }\n\n    .dataframe tbody tr th {\n        vertical-align: top;\n    }\n\n    .dataframe thead th {\n        text-align: right;\n    }\n</style>\n<table border=\"1\" class=\"dataframe\">\n  <thead>\n    <tr style=\"text-align: right;\">\n      <th></th>\n      <th>item_id</th>\n      <th>content_type</th>\n      <th>title</th>\n      <th>title_orig</th>\n      <th>release_year</th>\n      <th>genres</th>\n      <th>countries</th>\n      <th>for_kids</th>\n      <th>age_rating</th>\n      <th>studios</th>\n      <th>directors</th>\n      <th>actors</th>\n      <th>description</th>\n      <th>keywords</th>\n      <th>genre</th>\n    </tr>\n  </thead>\n  <tbody>\n    <tr>\n      <th>767</th>\n      <td>15297</td>\n      <td>series</td>\n      <td>Клиника счастья</td>\n      <td>Klinika schast'ya</td>\n      <td>2021.0</td>\n      <td>драмы, мелодрамы</td>\n      <td>Россия</td>\n      <td>NaN</td>\n      <td>18.0</td>\n      <td>NaN</td>\n      <td>Александр Кириенко</td>\n      <td>Дарья Мороз, Анатолий Белый, Данил Акутин, Мар...</td>\n      <td>Успешный сексолог Алена уверена, что нашла фор...</td>\n      <td>Клиника счастья, Клиника, Счастье, Клиника сча...</td>\n      <td>[драмы, мелодрамы]</td>\n    </tr>\n    <tr>\n      <th>1882</th>\n      <td>10440</td>\n      <td>series</td>\n      <td>Хрустальный</td>\n      <td>Khrustal'nyy</td>\n      <td>2021.0</td>\n      <td>триллеры, детективы</td>\n      <td>Россия</td>\n      <td>NaN</td>\n      <td>18.0</td>\n      <td>NaN</td>\n      <td>Душан Глигоров</td>\n      <td>Антон Васильев, Николай Шрайбер, Екатерина Оль...</td>\n      <td>Сергей Смирнов — один из лучших «охотников на ...</td>\n      <td>хруст, хрусталь, хруста, хрус, полицейский, пе...</td>\n      <td>[триллеры, детективы]</td>\n    </tr>\n    <tr>\n      <th>5956</th>\n      <td>10077</td>\n      <td>film</td>\n      <td>Что скрывает вода</td>\n      <td>What Lies Below</td>\n      <td>2020.0</td>\n      <td>ужасы, триллеры</td>\n      <td>США</td>\n      <td>NaN</td>\n      <td>16.0</td>\n      <td>NaN</td>\n      <td>Брэйден Р. Дуэммлер</td>\n      <td>Эма Хорват, Мена Сувари, Трей Такер, Хаскири В...</td>\n      <td>Мать-одиночка встречает 16-летнюю дочь Либи по...</td>\n      <td>озеро, беременность, отношения между пожилой ж...</td>\n      <td>[ужасы, триллеры]</td>\n    </tr>\n    <tr>\n      <th>6411</th>\n      <td>14317</td>\n      <td>film</td>\n      <td>Веном</td>\n      <td>Venom</td>\n      <td>2018.0</td>\n      <td>популярное, фантастика, триллеры, боевики, ужасы</td>\n      <td>США</td>\n      <td>NaN</td>\n      <td>16.0</td>\n      <td>NaN</td>\n      <td>Рубен Фляйшер</td>\n      <td>Том Харди, Вуди Харрельсон, Уэйд Уильямс, Мише...</td>\n      <td>Что если в один прекрасный день в тебя вселяет...</td>\n      <td>Сан-Франциско, Калифорния, космический корабль...</td>\n      <td>[популярное, фантастика, триллеры, боевики, уж...</td>\n    </tr>\n    <tr>\n      <th>6501</th>\n      <td>13865</td>\n      <td>film</td>\n      <td>Девятаев</td>\n      <td>V2. Escape from Hell</td>\n      <td>2021.0</td>\n      <td>драмы, военные, приключения</td>\n      <td>Россия</td>\n      <td>NaN</td>\n      <td>12.0</td>\n      <td>NaN</td>\n      <td>Тимур Бекмамбетов</td>\n      <td>Павел Прилучный, Павел Чинарёв, Тимофей Трибун...</td>\n      <td>Военно-исторический блокбастер от режиссёров Т...</td>\n      <td>Девятаев, Девятаева, Девят, Девя, Девята, Девя...</td>\n      <td>[драмы, военные, приключения]</td>\n    </tr>\n    <tr>\n      <th>8939</th>\n      <td>9381</td>\n      <td>film</td>\n      <td>Кто не спрятался</td>\n      <td>The Rental</td>\n      <td>2020.0</td>\n      <td>драмы, ужасы, триллеры, детективы</td>\n      <td>США</td>\n      <td>NaN</td>\n      <td>18.0</td>\n      <td>NaN</td>\n      <td>Дэйв Франко</td>\n      <td>Дэн Стивенс, Элисон Бри, Тоби Хасс, Шейла Ванд...</td>\n      <td>Вы снимали жилье через интернет? Смотрели крас...</td>\n      <td>камера, экстази, брат, дом, сталкер, убийство,...</td>\n      <td>[драмы, ужасы, триллеры, детективы]</td>\n    </tr>\n    <tr>\n      <th>9477</th>\n      <td>14741</td>\n      <td>film</td>\n      <td>Цвет из иных миров</td>\n      <td>Colour out of space</td>\n      <td>2020.0</td>\n      <td>фантастика, ужасы</td>\n      <td>США, Малайзия, Португалия</td>\n      <td>NaN</td>\n      <td>16.0</td>\n      <td>NaN</td>\n      <td>Ричард Стэнли</td>\n      <td>Николас Кейдж, Джоэли Ричардсон, Мадлен Артур,...</td>\n      <td>Экранизация рассказа Говарда Лавкрафта про упа...</td>\n      <td>мутация, хижина, сарай, отшельник, ферма, мете...</td>\n      <td>[фантастика, ужасы]</td>\n    </tr>\n    <tr>\n      <th>9938</th>\n      <td>14431</td>\n      <td>film</td>\n      <td>Приворот. Чёрное венчание</td>\n      <td>Privorot. Chernoe venchanie</td>\n      <td>2021.0</td>\n      <td>ужасы, триллеры, мелодрамы</td>\n      <td>Россия</td>\n      <td>NaN</td>\n      <td>16.0</td>\n      <td>NaN</td>\n      <td>Святослав Подгаевский</td>\n      <td>Яна Енжаева, Константин Белошапка, Илья Ермоло...</td>\n      <td>Отечественный хоррор с любовной историей. Женю...</td>\n      <td>, 2021, россия, приворот, чёрное, венчание</td>\n      <td>[ужасы, триллеры, мелодрамы]</td>\n    </tr>\n    <tr>\n      <th>10334</th>\n      <td>14359</td>\n      <td>film</td>\n      <td>Проклятие ведьмы</td>\n      <td>Reckoning</td>\n      <td>2020.0</td>\n      <td>ужасы</td>\n      <td>Великобритания</td>\n      <td>NaN</td>\n      <td>16.0</td>\n      <td>NaN</td>\n      <td>Нил Маршалл</td>\n      <td>Шарлотта Кирк, Джо Андерсон, Стивен Вэддингтон...</td>\n      <td>XVII век. Времена чумы и безжалостной охоты на...</td>\n      <td>ведьма, средневековье, преследование, охота на...</td>\n      <td>[ужасы]</td>\n    </tr>\n    <tr>\n      <th>12483</th>\n      <td>2220</td>\n      <td>film</td>\n      <td>С днём смерти</td>\n      <td>Death of Me</td>\n      <td>2020.0</td>\n      <td>ужасы, детективы</td>\n      <td>США, Таиланд</td>\n      <td>NaN</td>\n      <td>18.0</td>\n      <td>NaN</td>\n      <td>Даррен Линн Боусман</td>\n      <td>Мэгги Кью, Люк Хемсворт, Александра Эссоу, Кэт...</td>\n      <td>Супруги-американцы Кристин и Нейл проводят отп...</td>\n      <td>самоубийство, фотограф, паспорт, галлюцинация,...</td>\n      <td>[ужасы, детективы]</td>\n    </tr>\n  </tbody>\n</table>\n</div>"
     },
     "execution_count": 86,
     "metadata": {},
     "output_type": "execute_result"
    }
   ],
   "source": [
    "items[items.item_id.isin(avatars_reco_item_ids[1097558])]"
   ],
   "metadata": {
    "collapsed": false,
    "pycharm": {
     "name": "#%%\n"
    }
   }
  },
  {
   "cell_type": "markdown",
   "source": [
    "#### Рекомендации для 2 аватара - Comedy Person"
   ],
   "metadata": {
    "collapsed": false,
    "pycharm": {
     "name": "#%% md\n"
    }
   }
  },
  {
   "cell_type": "code",
   "execution_count": 87,
   "outputs": [
    {
     "data": {
      "text/plain": "       item_id content_type                      title  \\\n2023     14429         film                       Лимб   \n2924       237       series               Хемлок Гроув   \n5956     10077         film          Что скрывает вода   \n6411     14317         film                      Веном   \n8939      9381         film           Кто не спрятался   \n9938     14431         film  Приворот. Чёрное венчание   \n10334    14359         film           Проклятие ведьмы   \n11513    16484         film               Пила: Начало   \n12483     2220         film              С днём смерти   \n13615     2657       series                 Подслушано   \n\n                        title_orig  release_year  \\\n2023                       Haunter        2013.0   \n2924                 Hemlock Grove        2013.0   \n5956               What Lies Below        2020.0   \n6411                         Venom        2018.0   \n8939                    The Rental        2020.0   \n9938   Privorot. Chernoe venchanie        2021.0   \n10334                    Reckoning        2020.0   \n11513                        Alive        2018.0   \n12483                  Death of Me        2020.0   \n13615                  Podslushano        2021.0   \n\n                                                 genres        countries  \\\n2023                ужасы, триллеры, детективы, фэнтези  Канада, Франция   \n2924                                    ужасы, триллеры              США   \n5956                                    ужасы, триллеры              США   \n6411   популярное, фантастика, триллеры, боевики, ужасы              США   \n8939                  драмы, ужасы, триллеры, детективы              США   \n9938                         ужасы, триллеры, мелодрамы           Россия   \n10334                                             ужасы   Великобритания   \n11513                                   ужасы, триллеры           Канада   \n12483                                  ужасы, детективы     США, Таиланд   \n13615                                   драмы, триллеры           Россия   \n\n       for_kids  age_rating studios  \\\n2023        NaN        16.0     NaN   \n2924        NaN        16.0     NaN   \n5956        NaN        16.0     NaN   \n6411        NaN        16.0     NaN   \n8939        NaN        18.0     NaN   \n9938        NaN        16.0     NaN   \n10334       NaN        16.0     NaN   \n11513       NaN        18.0     NaN   \n12483       NaN        18.0     NaN   \n13615       NaN        16.0     NaN   \n\n                                           directors  \\\n2023                                 Винченцо Натали   \n2924   Дэвид Стрейтон, Деран Сарафян, Рассел Ли Файн   \n5956                             Брэйден Р. Дуэммлер   \n6411                                   Рубен Фляйшер   \n8939                                     Дэйв Франко   \n9938                           Святослав Подгаевский   \n10334                                    Нил Маршалл   \n11513                                      Роб Грант   \n12483                            Даррен Линн Боусман   \n13615                                   Илья Куликов   \n\n                                                  actors  \\\n2023   Эбигейл Бреслин, Питер Аутербридж, Мишель Нолд...   \n2924   Фамке Янссен, Билл Скарсгард, Лэндон Либуарон,...   \n5956   Эма Хорват, Мена Сувари, Трей Такер, Хаскири В...   \n6411   Том Харди, Вуди Харрельсон, Уэйд Уильямс, Мише...   \n8939   Дэн Стивенс, Элисон Бри, Тоби Хасс, Шейла Ванд...   \n9938   Яна Енжаева, Константин Белошапка, Илья Ермоло...   \n10334  Шарлотта Кирк, Джо Андерсон, Стивен Вэддингтон...   \n11513  Томас Кокерел, Камилла Стоппс, Энгус МакФадьен...   \n12483  Мэгги Кью, Люк Хемсворт, Александра Эссоу, Кэт...   \n13615  Александр Hовиков, Валентина Ляпина, Никита Па...   \n\n                                             description  \\\n2023   На первый взгляд Лиза, её младший брат и их ро...   \n2924   Жители небольшого американского городка Хемлок...   \n5956   Мать-одиночка встречает 16-летнюю дочь Либи по...   \n6411   Что если в один прекрасный день в тебя вселяет...   \n8939   Вы снимали жилье через интернет? Смотрели крас...   \n9938   Отечественный хоррор с любовной историей. Женю...   \n10334  XVII век. Времена чумы и безжалостной охоты на...   \n11513  Связанные парень и девушка приходят в себя в з...   \n12483  Супруги-американцы Кристин и Нейл проводят отп...   \n13615  Смотри:- как кино- как сериалПодростковый псих...   \n\n                                                keywords  \\\n2023   дом с привидениями, дом, загробная жизнь, влад...   \n2924   гадалка, основанная на романе или книге, цыган...   \n5956   озеро, беременность, отношения между пожилой ж...   \n6411   Сан-Франциско, Калифорния, космический корабль...   \n8939   камера, экстази, брат, дом, сталкер, убийство,...   \n9938          , 2021, россия, приворот, чёрное, венчание   \n10334  ведьма, средневековье, преследование, охота на...   \n11513                         2018, канада, пила, начало   \n12483  самоубийство, фотограф, паспорт, галлюцинация,...   \n13615  подслушано, подслушано в контакте, социальная ...   \n\n                                                   genre  \n2023               [ужасы, триллеры, детективы, фэнтези]  \n2924                                   [ужасы, триллеры]  \n5956                                   [ужасы, триллеры]  \n6411   [популярное, фантастика, триллеры, боевики, уж...  \n8939                 [драмы, ужасы, триллеры, детективы]  \n9938                        [ужасы, триллеры, мелодрамы]  \n10334                                            [ужасы]  \n11513                                  [ужасы, триллеры]  \n12483                                 [ужасы, детективы]  \n13615                                  [драмы, триллеры]  ",
      "text/html": "<div>\n<style scoped>\n    .dataframe tbody tr th:only-of-type {\n        vertical-align: middle;\n    }\n\n    .dataframe tbody tr th {\n        vertical-align: top;\n    }\n\n    .dataframe thead th {\n        text-align: right;\n    }\n</style>\n<table border=\"1\" class=\"dataframe\">\n  <thead>\n    <tr style=\"text-align: right;\">\n      <th></th>\n      <th>item_id</th>\n      <th>content_type</th>\n      <th>title</th>\n      <th>title_orig</th>\n      <th>release_year</th>\n      <th>genres</th>\n      <th>countries</th>\n      <th>for_kids</th>\n      <th>age_rating</th>\n      <th>studios</th>\n      <th>directors</th>\n      <th>actors</th>\n      <th>description</th>\n      <th>keywords</th>\n      <th>genre</th>\n    </tr>\n  </thead>\n  <tbody>\n    <tr>\n      <th>2023</th>\n      <td>14429</td>\n      <td>film</td>\n      <td>Лимб</td>\n      <td>Haunter</td>\n      <td>2013.0</td>\n      <td>ужасы, триллеры, детективы, фэнтези</td>\n      <td>Канада, Франция</td>\n      <td>NaN</td>\n      <td>16.0</td>\n      <td>NaN</td>\n      <td>Винченцо Натали</td>\n      <td>Эбигейл Бреслин, Питер Аутербридж, Мишель Нолд...</td>\n      <td>На первый взгляд Лиза, её младший брат и их ро...</td>\n      <td>дом с привидениями, дом, загробная жизнь, влад...</td>\n      <td>[ужасы, триллеры, детективы, фэнтези]</td>\n    </tr>\n    <tr>\n      <th>2924</th>\n      <td>237</td>\n      <td>series</td>\n      <td>Хемлок Гроув</td>\n      <td>Hemlock Grove</td>\n      <td>2013.0</td>\n      <td>ужасы, триллеры</td>\n      <td>США</td>\n      <td>NaN</td>\n      <td>16.0</td>\n      <td>NaN</td>\n      <td>Дэвид Стрейтон, Деран Сарафян, Рассел Ли Файн</td>\n      <td>Фамке Янссен, Билл Скарсгард, Лэндон Либуарон,...</td>\n      <td>Жители небольшого американского городка Хемлок...</td>\n      <td>гадалка, основанная на романе или книге, цыган...</td>\n      <td>[ужасы, триллеры]</td>\n    </tr>\n    <tr>\n      <th>5956</th>\n      <td>10077</td>\n      <td>film</td>\n      <td>Что скрывает вода</td>\n      <td>What Lies Below</td>\n      <td>2020.0</td>\n      <td>ужасы, триллеры</td>\n      <td>США</td>\n      <td>NaN</td>\n      <td>16.0</td>\n      <td>NaN</td>\n      <td>Брэйден Р. Дуэммлер</td>\n      <td>Эма Хорват, Мена Сувари, Трей Такер, Хаскири В...</td>\n      <td>Мать-одиночка встречает 16-летнюю дочь Либи по...</td>\n      <td>озеро, беременность, отношения между пожилой ж...</td>\n      <td>[ужасы, триллеры]</td>\n    </tr>\n    <tr>\n      <th>6411</th>\n      <td>14317</td>\n      <td>film</td>\n      <td>Веном</td>\n      <td>Venom</td>\n      <td>2018.0</td>\n      <td>популярное, фантастика, триллеры, боевики, ужасы</td>\n      <td>США</td>\n      <td>NaN</td>\n      <td>16.0</td>\n      <td>NaN</td>\n      <td>Рубен Фляйшер</td>\n      <td>Том Харди, Вуди Харрельсон, Уэйд Уильямс, Мише...</td>\n      <td>Что если в один прекрасный день в тебя вселяет...</td>\n      <td>Сан-Франциско, Калифорния, космический корабль...</td>\n      <td>[популярное, фантастика, триллеры, боевики, уж...</td>\n    </tr>\n    <tr>\n      <th>8939</th>\n      <td>9381</td>\n      <td>film</td>\n      <td>Кто не спрятался</td>\n      <td>The Rental</td>\n      <td>2020.0</td>\n      <td>драмы, ужасы, триллеры, детективы</td>\n      <td>США</td>\n      <td>NaN</td>\n      <td>18.0</td>\n      <td>NaN</td>\n      <td>Дэйв Франко</td>\n      <td>Дэн Стивенс, Элисон Бри, Тоби Хасс, Шейла Ванд...</td>\n      <td>Вы снимали жилье через интернет? Смотрели крас...</td>\n      <td>камера, экстази, брат, дом, сталкер, убийство,...</td>\n      <td>[драмы, ужасы, триллеры, детективы]</td>\n    </tr>\n    <tr>\n      <th>9938</th>\n      <td>14431</td>\n      <td>film</td>\n      <td>Приворот. Чёрное венчание</td>\n      <td>Privorot. Chernoe venchanie</td>\n      <td>2021.0</td>\n      <td>ужасы, триллеры, мелодрамы</td>\n      <td>Россия</td>\n      <td>NaN</td>\n      <td>16.0</td>\n      <td>NaN</td>\n      <td>Святослав Подгаевский</td>\n      <td>Яна Енжаева, Константин Белошапка, Илья Ермоло...</td>\n      <td>Отечественный хоррор с любовной историей. Женю...</td>\n      <td>, 2021, россия, приворот, чёрное, венчание</td>\n      <td>[ужасы, триллеры, мелодрамы]</td>\n    </tr>\n    <tr>\n      <th>10334</th>\n      <td>14359</td>\n      <td>film</td>\n      <td>Проклятие ведьмы</td>\n      <td>Reckoning</td>\n      <td>2020.0</td>\n      <td>ужасы</td>\n      <td>Великобритания</td>\n      <td>NaN</td>\n      <td>16.0</td>\n      <td>NaN</td>\n      <td>Нил Маршалл</td>\n      <td>Шарлотта Кирк, Джо Андерсон, Стивен Вэддингтон...</td>\n      <td>XVII век. Времена чумы и безжалостной охоты на...</td>\n      <td>ведьма, средневековье, преследование, охота на...</td>\n      <td>[ужасы]</td>\n    </tr>\n    <tr>\n      <th>11513</th>\n      <td>16484</td>\n      <td>film</td>\n      <td>Пила: Начало</td>\n      <td>Alive</td>\n      <td>2018.0</td>\n      <td>ужасы, триллеры</td>\n      <td>Канада</td>\n      <td>NaN</td>\n      <td>18.0</td>\n      <td>NaN</td>\n      <td>Роб Грант</td>\n      <td>Томас Кокерел, Камилла Стоппс, Энгус МакФадьен...</td>\n      <td>Связанные парень и девушка приходят в себя в з...</td>\n      <td>2018, канада, пила, начало</td>\n      <td>[ужасы, триллеры]</td>\n    </tr>\n    <tr>\n      <th>12483</th>\n      <td>2220</td>\n      <td>film</td>\n      <td>С днём смерти</td>\n      <td>Death of Me</td>\n      <td>2020.0</td>\n      <td>ужасы, детективы</td>\n      <td>США, Таиланд</td>\n      <td>NaN</td>\n      <td>18.0</td>\n      <td>NaN</td>\n      <td>Даррен Линн Боусман</td>\n      <td>Мэгги Кью, Люк Хемсворт, Александра Эссоу, Кэт...</td>\n      <td>Супруги-американцы Кристин и Нейл проводят отп...</td>\n      <td>самоубийство, фотограф, паспорт, галлюцинация,...</td>\n      <td>[ужасы, детективы]</td>\n    </tr>\n    <tr>\n      <th>13615</th>\n      <td>2657</td>\n      <td>series</td>\n      <td>Подслушано</td>\n      <td>Podslushano</td>\n      <td>2021.0</td>\n      <td>драмы, триллеры</td>\n      <td>Россия</td>\n      <td>NaN</td>\n      <td>16.0</td>\n      <td>NaN</td>\n      <td>Илья Куликов</td>\n      <td>Александр Hовиков, Валентина Ляпина, Никита Па...</td>\n      <td>Смотри:- как кино- как сериалПодростковый псих...</td>\n      <td>подслушано, подслушано в контакте, социальная ...</td>\n      <td>[драмы, триллеры]</td>\n    </tr>\n  </tbody>\n</table>\n</div>"
     },
     "execution_count": 87,
     "metadata": {},
     "output_type": "execute_result"
    }
   ],
   "source": [
    "items[items.item_id.isin(avatars_reco_item_ids[1097559])]"
   ],
   "metadata": {
    "collapsed": false,
    "pycharm": {
     "name": "#%%\n"
    }
   }
  },
  {
   "cell_type": "markdown",
   "source": [
    "#### Рекомендации для 3 аватара - Mommy Person"
   ],
   "metadata": {
    "collapsed": false,
    "pycharm": {
     "name": "#%% md\n"
    }
   }
  },
  {
   "cell_type": "code",
   "execution_count": 88,
   "outputs": [
    {
     "data": {
      "text/plain": "       item_id content_type                          title  \\\n158      13915         film                         Вперёд   \n202       4880       series                          Афера   \n767      15297       series                Клиника счастья   \n1849      7571         film                      100% волк   \n1882     10440       series                    Хрустальный   \n3951      3182         film         Ральф против Интернета   \n5951      5658         film    #Только серьёзные отношения   \n6689      4151       series         Секреты семейной жизни   \n9085      1105         film  Рапунцель: Запутанная история   \n12050     3734         film   Прабабушка легкого поведения   \n\n                            title_orig  release_year  \\\n158                             Onward        2020.0   \n202                              Afera        2021.0   \n767                  Klinika schast'ya        2021.0   \n1849                         100% Wolf        2020.0   \n1882                      Khrustal'nyy        2021.0   \n3951         Ralph Breaks the Internet        2018.0   \n5951         Serious relationship only        2021.0   \n6689                               NaN        2021.0   \n9085                           Tangled        2010.0   \n12050  Prababushka lyogkogo povedeniya        2021.0   \n\n                                                  genres           countries  \\\n158    для детей, приключения, семейное, фэнтези, ком...                 США   \n202                                              комедии              Россия   \n767                                     драмы, мелодрамы              Россия   \n1849   мультфильм, приключения, семейное, фэнтези, ко...  Австралия, Бельгия   \n1882                                 триллеры, детективы              Россия   \n3951   мультфильм, приключения, фантастика, семейное,...                 США   \n5951                                  мелодрамы, комедии              Россия   \n6689                                             комедии              Россия   \n9085   мультфильм, приключения, мюзиклы, мелодрамы, ф...                 США   \n12050                                            комедии              Россия   \n\n       for_kids  age_rating studios                    directors  \\\n158         NaN         6.0     NaN                  Дэн Скэнлон   \n202         NaN        18.0     NaN               Михаил Старчак   \n767         NaN        18.0     NaN           Александр Кириенко   \n1849        NaN         6.0     NaN             Алекс Стадерманн   \n1882        NaN        18.0     NaN               Душан Глигоров   \n3951        NaN         6.0     NaN        Рич Мур, Фил Джонстон   \n5951        NaN        16.0     NaN                Вячеслав Росс   \n6689        NaN        18.0     NaN               Шота Гамисония   \n9085        NaN         6.0     NaN  Нэйтан Грено, Байрон Ховард   \n12050       NaN        16.0     NaN               Марюс Вайсберг   \n\n                                                  actors  \\\n158    Том Холланд, Крис Пратт, Джулия Луис-Дрейфус, ...   \n202    Сергей Степин, Игорь Царегородцев, Татьяна Лял...   \n767    Дарья Мороз, Анатолий Белый, Данил Акутин, Мар...   \n1849   Илай Суинделлс, Самара Уивинг, Джай Кортни, Ру...   \n1882   Антон Васильев, Николай Шрайбер, Екатерина Оль...   \n3951   Джон Си Райли, Сара Силверман, Галь Гадот, Тар...   \n5951   Алина Юхневич, Александр Робак, Ирина Пегова, ...   \n6689   Петр Скворцов, Алена Михайлова, Федор Лавров, ...   \n9085   Мэнди Мур, Закари Ливай, Донна Мерфи, Рон Перл...   \n12050  Александр Ревва, Глюкоза, Дмитрий Нагиев, Миха...   \n\n                                             description  \\\n158    Когда-то давно в сказочном мире царила магия, ...   \n202    Смотри:- как кино- как сериалКарантин окончен,...   \n767    Успешный сексолог Алена уверена, что нашла фор...   \n1849   Наследник семьи оборотней Фредди Люпин отчаянн...   \n1882   Сергей Смирнов — один из лучших «охотников на ...   \n3951   На этот раз Ральф и Ванилопа фон Кекс выйдут з...   \n5951   Больше всего Соня Чижик хочет найти настоящую ...   \n6689   У Никиты и Полины всё начиналось прекрасно: об...   \n9085   Обаятельный разбойник Флинн путешествует по жи...   \n12050  1980 год, вся страна следит за событиями моско...   \n\n                                                keywords  \\\n158    эльфы, мир фантазий, эльф, главный герой подро...   \n202    Афера, Аферисты, Карантин, Пандемия, Карантин ...   \n767    Клиника счастья, Клиника, Счастье, Клиника сча...   \n1849   пудель, подростковая тревога, оборотень, приня...   \n1882   хруст, хрусталь, хруста, хрус, полицейский, пе...   \n3951   видеоигра, мультфильм, продолжение, интернет, ...   \n5951        , 2021, россия, только, серьёзные, отношения   \n6689   брызги крови, кровь, жестокое обращение с живо...   \n9085   Заложник, магия, лошадь, сказка, мюзикл, блонд...   \n12050     , 2021, россия, прабабушка, легкого, поведения   \n\n                                                   genre  \n158    [для детей, приключения, семейное, фэнтези, ко...  \n202                                            [комедии]  \n767                                   [драмы, мелодрамы]  \n1849   [мультфильм, приключения, семейное, фэнтези, к...  \n1882                               [триллеры, детективы]  \n3951   [мультфильм, приключения, фантастика, семейное...  \n5951                                [мелодрамы, комедии]  \n6689                                           [комедии]  \n9085   [мультфильм, приключения, мюзиклы, мелодрамы, ...  \n12050                                          [комедии]  ",
      "text/html": "<div>\n<style scoped>\n    .dataframe tbody tr th:only-of-type {\n        vertical-align: middle;\n    }\n\n    .dataframe tbody tr th {\n        vertical-align: top;\n    }\n\n    .dataframe thead th {\n        text-align: right;\n    }\n</style>\n<table border=\"1\" class=\"dataframe\">\n  <thead>\n    <tr style=\"text-align: right;\">\n      <th></th>\n      <th>item_id</th>\n      <th>content_type</th>\n      <th>title</th>\n      <th>title_orig</th>\n      <th>release_year</th>\n      <th>genres</th>\n      <th>countries</th>\n      <th>for_kids</th>\n      <th>age_rating</th>\n      <th>studios</th>\n      <th>directors</th>\n      <th>actors</th>\n      <th>description</th>\n      <th>keywords</th>\n      <th>genre</th>\n    </tr>\n  </thead>\n  <tbody>\n    <tr>\n      <th>158</th>\n      <td>13915</td>\n      <td>film</td>\n      <td>Вперёд</td>\n      <td>Onward</td>\n      <td>2020.0</td>\n      <td>для детей, приключения, семейное, фэнтези, ком...</td>\n      <td>США</td>\n      <td>NaN</td>\n      <td>6.0</td>\n      <td>NaN</td>\n      <td>Дэн Скэнлон</td>\n      <td>Том Холланд, Крис Пратт, Джулия Луис-Дрейфус, ...</td>\n      <td>Когда-то давно в сказочном мире царила магия, ...</td>\n      <td>эльфы, мир фантазий, эльф, главный герой подро...</td>\n      <td>[для детей, приключения, семейное, фэнтези, ко...</td>\n    </tr>\n    <tr>\n      <th>202</th>\n      <td>4880</td>\n      <td>series</td>\n      <td>Афера</td>\n      <td>Afera</td>\n      <td>2021.0</td>\n      <td>комедии</td>\n      <td>Россия</td>\n      <td>NaN</td>\n      <td>18.0</td>\n      <td>NaN</td>\n      <td>Михаил Старчак</td>\n      <td>Сергей Степин, Игорь Царегородцев, Татьяна Лял...</td>\n      <td>Смотри:- как кино- как сериалКарантин окончен,...</td>\n      <td>Афера, Аферисты, Карантин, Пандемия, Карантин ...</td>\n      <td>[комедии]</td>\n    </tr>\n    <tr>\n      <th>767</th>\n      <td>15297</td>\n      <td>series</td>\n      <td>Клиника счастья</td>\n      <td>Klinika schast'ya</td>\n      <td>2021.0</td>\n      <td>драмы, мелодрамы</td>\n      <td>Россия</td>\n      <td>NaN</td>\n      <td>18.0</td>\n      <td>NaN</td>\n      <td>Александр Кириенко</td>\n      <td>Дарья Мороз, Анатолий Белый, Данил Акутин, Мар...</td>\n      <td>Успешный сексолог Алена уверена, что нашла фор...</td>\n      <td>Клиника счастья, Клиника, Счастье, Клиника сча...</td>\n      <td>[драмы, мелодрамы]</td>\n    </tr>\n    <tr>\n      <th>1849</th>\n      <td>7571</td>\n      <td>film</td>\n      <td>100% волк</td>\n      <td>100% Wolf</td>\n      <td>2020.0</td>\n      <td>мультфильм, приключения, семейное, фэнтези, ко...</td>\n      <td>Австралия, Бельгия</td>\n      <td>NaN</td>\n      <td>6.0</td>\n      <td>NaN</td>\n      <td>Алекс Стадерманн</td>\n      <td>Илай Суинделлс, Самара Уивинг, Джай Кортни, Ру...</td>\n      <td>Наследник семьи оборотней Фредди Люпин отчаянн...</td>\n      <td>пудель, подростковая тревога, оборотень, приня...</td>\n      <td>[мультфильм, приключения, семейное, фэнтези, к...</td>\n    </tr>\n    <tr>\n      <th>1882</th>\n      <td>10440</td>\n      <td>series</td>\n      <td>Хрустальный</td>\n      <td>Khrustal'nyy</td>\n      <td>2021.0</td>\n      <td>триллеры, детективы</td>\n      <td>Россия</td>\n      <td>NaN</td>\n      <td>18.0</td>\n      <td>NaN</td>\n      <td>Душан Глигоров</td>\n      <td>Антон Васильев, Николай Шрайбер, Екатерина Оль...</td>\n      <td>Сергей Смирнов — один из лучших «охотников на ...</td>\n      <td>хруст, хрусталь, хруста, хрус, полицейский, пе...</td>\n      <td>[триллеры, детективы]</td>\n    </tr>\n    <tr>\n      <th>3951</th>\n      <td>3182</td>\n      <td>film</td>\n      <td>Ральф против Интернета</td>\n      <td>Ralph Breaks the Internet</td>\n      <td>2018.0</td>\n      <td>мультфильм, приключения, фантастика, семейное,...</td>\n      <td>США</td>\n      <td>NaN</td>\n      <td>6.0</td>\n      <td>NaN</td>\n      <td>Рич Мур, Фил Джонстон</td>\n      <td>Джон Си Райли, Сара Силверман, Галь Гадот, Тар...</td>\n      <td>На этот раз Ральф и Ванилопа фон Кекс выйдут з...</td>\n      <td>видеоигра, мультфильм, продолжение, интернет, ...</td>\n      <td>[мультфильм, приключения, фантастика, семейное...</td>\n    </tr>\n    <tr>\n      <th>5951</th>\n      <td>5658</td>\n      <td>film</td>\n      <td>#Только серьёзные отношения</td>\n      <td>Serious relationship only</td>\n      <td>2021.0</td>\n      <td>мелодрамы, комедии</td>\n      <td>Россия</td>\n      <td>NaN</td>\n      <td>16.0</td>\n      <td>NaN</td>\n      <td>Вячеслав Росс</td>\n      <td>Алина Юхневич, Александр Робак, Ирина Пегова, ...</td>\n      <td>Больше всего Соня Чижик хочет найти настоящую ...</td>\n      <td>, 2021, россия, только, серьёзные, отношения</td>\n      <td>[мелодрамы, комедии]</td>\n    </tr>\n    <tr>\n      <th>6689</th>\n      <td>4151</td>\n      <td>series</td>\n      <td>Секреты семейной жизни</td>\n      <td>NaN</td>\n      <td>2021.0</td>\n      <td>комедии</td>\n      <td>Россия</td>\n      <td>NaN</td>\n      <td>18.0</td>\n      <td>NaN</td>\n      <td>Шота Гамисония</td>\n      <td>Петр Скворцов, Алена Михайлова, Федор Лавров, ...</td>\n      <td>У Никиты и Полины всё начиналось прекрасно: об...</td>\n      <td>брызги крови, кровь, жестокое обращение с живо...</td>\n      <td>[комедии]</td>\n    </tr>\n    <tr>\n      <th>9085</th>\n      <td>1105</td>\n      <td>film</td>\n      <td>Рапунцель: Запутанная история</td>\n      <td>Tangled</td>\n      <td>2010.0</td>\n      <td>мультфильм, приключения, мюзиклы, мелодрамы, ф...</td>\n      <td>США</td>\n      <td>NaN</td>\n      <td>6.0</td>\n      <td>NaN</td>\n      <td>Нэйтан Грено, Байрон Ховард</td>\n      <td>Мэнди Мур, Закари Ливай, Донна Мерфи, Рон Перл...</td>\n      <td>Обаятельный разбойник Флинн путешествует по жи...</td>\n      <td>Заложник, магия, лошадь, сказка, мюзикл, блонд...</td>\n      <td>[мультфильм, приключения, мюзиклы, мелодрамы, ...</td>\n    </tr>\n    <tr>\n      <th>12050</th>\n      <td>3734</td>\n      <td>film</td>\n      <td>Прабабушка легкого поведения</td>\n      <td>Prababushka lyogkogo povedeniya</td>\n      <td>2021.0</td>\n      <td>комедии</td>\n      <td>Россия</td>\n      <td>NaN</td>\n      <td>16.0</td>\n      <td>NaN</td>\n      <td>Марюс Вайсберг</td>\n      <td>Александр Ревва, Глюкоза, Дмитрий Нагиев, Миха...</td>\n      <td>1980 год, вся страна следит за событиями моско...</td>\n      <td>, 2021, россия, прабабушка, легкого, поведения</td>\n      <td>[комедии]</td>\n    </tr>\n  </tbody>\n</table>\n</div>"
     },
     "execution_count": 88,
     "metadata": {},
     "output_type": "execute_result"
    }
   ],
   "source": [
    "items[items.item_id.isin(avatars_reco_item_ids[1097560])]"
   ],
   "metadata": {
    "collapsed": false,
    "pycharm": {
     "name": "#%%\n"
    }
   }
  },
  {
   "cell_type": "markdown",
   "source": [
    "# Cold recommendations"
   ],
   "metadata": {
    "collapsed": false,
    "pycharm": {
     "name": "#%% md\n"
    }
   }
  },
  {
   "cell_type": "markdown",
   "source": [
    "### Используем подход рекомендаций most popular"
   ],
   "metadata": {
    "collapsed": false,
    "pycharm": {
     "name": "#%% md\n"
    }
   }
  },
  {
   "cell_type": "code",
   "execution_count": 126,
   "outputs": [],
   "source": [
    "most_popular_top_10 = interactions.groupby(Columns.Item).agg('count').sort_values('user_id', ascending=False)[:10].index.to_list()"
   ],
   "metadata": {
    "collapsed": false,
    "pycharm": {
     "name": "#%%\n"
    }
   }
  },
  {
   "cell_type": "code",
   "execution_count": 127,
   "outputs": [
    {
     "data": {
      "text/plain": "[10440, 15297, 9728, 13865, 4151, 3734, 2657, 4880, 142, 6809]"
     },
     "execution_count": 127,
     "metadata": {},
     "output_type": "execute_result"
    }
   ],
   "source": [
    "most_popular_top_10"
   ],
   "metadata": {
    "collapsed": false,
    "pycharm": {
     "name": "#%%\n"
    }
   }
  },
  {
   "cell_type": "code",
   "execution_count": 128,
   "outputs": [],
   "source": [
    "with open('data/most_popular_top_10.pkl', 'wb') as fw:\n",
    "    pickle.dump(most_popular_top_10, fw, pickle.HIGHEST_PROTOCOL)"
   ],
   "metadata": {
    "collapsed": false,
    "pycharm": {
     "name": "#%%\n"
    }
   }
  },
  {
   "cell_type": "code",
   "execution_count": null,
   "outputs": [],
   "source": [],
   "metadata": {
    "collapsed": false,
    "pycharm": {
     "name": "#%%\n"
    }
   }
  },
  {
   "cell_type": "code",
   "execution_count": null,
   "outputs": [],
   "source": [],
   "metadata": {
    "collapsed": false,
    "pycharm": {
     "name": "#%%\n"
    }
   }
  },
  {
   "cell_type": "code",
   "execution_count": null,
   "outputs": [],
   "source": [],
   "metadata": {
    "collapsed": false,
    "pycharm": {
     "name": "#%%\n"
    }
   }
  },
  {
   "cell_type": "code",
   "execution_count": null,
   "outputs": [],
   "source": [],
   "metadata": {
    "collapsed": false,
    "pycharm": {
     "name": "#%%\n"
    }
   }
  },
  {
   "cell_type": "code",
   "execution_count": null,
   "outputs": [],
   "source": [],
   "metadata": {
    "collapsed": false,
    "pycharm": {
     "name": "#%%\n"
    }
   }
  },
  {
   "cell_type": "code",
   "execution_count": null,
   "outputs": [],
   "source": [],
   "metadata": {
    "collapsed": false,
    "pycharm": {
     "name": "#%%\n"
    }
   }
  }
 ],
 "metadata": {
  "kernelspec": {
   "name": "recsys",
   "language": "python",
   "display_name": "recsys"
  },
  "language_info": {
   "codemirror_mode": {
    "name": "ipython",
    "version": 3
   },
   "file_extension": ".py",
   "mimetype": "text/x-python",
   "name": "python",
   "nbconvert_exporter": "python",
   "pygments_lexer": "ipython3",
   "version": "3.7.9"
  }
 },
 "nbformat": 4,
 "nbformat_minor": 4
}